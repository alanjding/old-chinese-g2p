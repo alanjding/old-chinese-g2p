{
  "nbformat": 4,
  "nbformat_minor": 0,
  "metadata": {
    "kernelspec": {
      "display_name": "Python 3",
      "language": "python",
      "name": "python3"
    },
    "language_info": {
      "codemirror_mode": {
        "name": "ipython",
        "version": 3
      },
      "file_extension": ".py",
      "mimetype": "text/x-python",
      "name": "python",
      "nbconvert_exporter": "python",
      "pygments_lexer": "ipython3",
      "version": "3.7.3"
    },
    "colab": {
      "name": "components.ipynb",
      "provenance": [],
      "include_colab_link": true
    },
    "widgets": {
      "application/vnd.jupyter.widget-state+json": {
        "ca5b5f1021c44f37847a3e34fe4780b2": {
          "model_module": "@jupyter-widgets/controls",
          "model_name": "HBoxModel",
          "model_module_version": "1.5.0",
          "state": {
            "_view_name": "HBoxView",
            "_dom_classes": [],
            "_model_name": "HBoxModel",
            "_view_module": "@jupyter-widgets/controls",
            "_model_module_version": "1.5.0",
            "_view_count": null,
            "_view_module_version": "1.5.0",
            "box_style": "",
            "layout": "IPY_MODEL_0b5572924d72474eaa1c92a5e2e61074",
            "_model_module": "@jupyter-widgets/controls",
            "children": [
              "IPY_MODEL_10b11eec02704d6a89981824fd3e1830",
              "IPY_MODEL_029d373f6a7546d28caf7d00edbddd06",
              "IPY_MODEL_d9cb3662389843f6918e1db8ed2cdb32"
            ]
          }
        },
        "0b5572924d72474eaa1c92a5e2e61074": {
          "model_module": "@jupyter-widgets/base",
          "model_name": "LayoutModel",
          "model_module_version": "1.2.0",
          "state": {
            "_view_name": "LayoutView",
            "grid_template_rows": null,
            "right": null,
            "justify_content": null,
            "_view_module": "@jupyter-widgets/base",
            "overflow": null,
            "_model_module_version": "1.2.0",
            "_view_count": null,
            "flex_flow": null,
            "width": null,
            "min_width": null,
            "border": null,
            "align_items": null,
            "bottom": null,
            "_model_module": "@jupyter-widgets/base",
            "top": null,
            "grid_column": null,
            "overflow_y": null,
            "overflow_x": null,
            "grid_auto_flow": null,
            "grid_area": null,
            "grid_template_columns": null,
            "flex": null,
            "_model_name": "LayoutModel",
            "justify_items": null,
            "grid_row": null,
            "max_height": null,
            "align_content": null,
            "visibility": null,
            "align_self": null,
            "height": null,
            "min_height": null,
            "padding": null,
            "grid_auto_rows": null,
            "grid_gap": null,
            "max_width": null,
            "order": null,
            "_view_module_version": "1.2.0",
            "grid_template_areas": null,
            "object_position": null,
            "object_fit": null,
            "grid_auto_columns": null,
            "margin": null,
            "display": null,
            "left": null
          }
        },
        "10b11eec02704d6a89981824fd3e1830": {
          "model_module": "@jupyter-widgets/controls",
          "model_name": "HTMLModel",
          "model_module_version": "1.5.0",
          "state": {
            "_view_name": "HTMLView",
            "style": "IPY_MODEL_9d6b459b7a9c4306953a06650b232d28",
            "_dom_classes": [],
            "description": "",
            "_model_name": "HTMLModel",
            "placeholder": "​",
            "_view_module": "@jupyter-widgets/controls",
            "_model_module_version": "1.5.0",
            "value": "Downloading: 100%",
            "_view_count": null,
            "_view_module_version": "1.5.0",
            "description_tooltip": null,
            "_model_module": "@jupyter-widgets/controls",
            "layout": "IPY_MODEL_de54e1c645e445a281803db1099d1381"
          }
        },
        "029d373f6a7546d28caf7d00edbddd06": {
          "model_module": "@jupyter-widgets/controls",
          "model_name": "FloatProgressModel",
          "model_module_version": "1.5.0",
          "state": {
            "_view_name": "ProgressView",
            "style": "IPY_MODEL_d43bbd8e0f10403681cb8da5bd6e305f",
            "_dom_classes": [],
            "description": "",
            "_model_name": "FloatProgressModel",
            "bar_style": "success",
            "max": 519,
            "_view_module": "@jupyter-widgets/controls",
            "_model_module_version": "1.5.0",
            "value": 519,
            "_view_count": null,
            "_view_module_version": "1.5.0",
            "orientation": "horizontal",
            "min": 0,
            "description_tooltip": null,
            "_model_module": "@jupyter-widgets/controls",
            "layout": "IPY_MODEL_0efd01a0ca794ed3913ad00e130114b9"
          }
        },
        "d9cb3662389843f6918e1db8ed2cdb32": {
          "model_module": "@jupyter-widgets/controls",
          "model_name": "HTMLModel",
          "model_module_version": "1.5.0",
          "state": {
            "_view_name": "HTMLView",
            "style": "IPY_MODEL_55ded5a4edb8443c9e71dc3c324ae46e",
            "_dom_classes": [],
            "description": "",
            "_model_name": "HTMLModel",
            "placeholder": "​",
            "_view_module": "@jupyter-widgets/controls",
            "_model_module_version": "1.5.0",
            "value": " 519/519 [00:00&lt;00:00, 11.5kB/s]",
            "_view_count": null,
            "_view_module_version": "1.5.0",
            "description_tooltip": null,
            "_model_module": "@jupyter-widgets/controls",
            "layout": "IPY_MODEL_7f5866cc1da44666a70acad188dfc5a8"
          }
        },
        "9d6b459b7a9c4306953a06650b232d28": {
          "model_module": "@jupyter-widgets/controls",
          "model_name": "DescriptionStyleModel",
          "model_module_version": "1.5.0",
          "state": {
            "_view_name": "StyleView",
            "_model_name": "DescriptionStyleModel",
            "description_width": "",
            "_view_module": "@jupyter-widgets/base",
            "_model_module_version": "1.5.0",
            "_view_count": null,
            "_view_module_version": "1.2.0",
            "_model_module": "@jupyter-widgets/controls"
          }
        },
        "de54e1c645e445a281803db1099d1381": {
          "model_module": "@jupyter-widgets/base",
          "model_name": "LayoutModel",
          "model_module_version": "1.2.0",
          "state": {
            "_view_name": "LayoutView",
            "grid_template_rows": null,
            "right": null,
            "justify_content": null,
            "_view_module": "@jupyter-widgets/base",
            "overflow": null,
            "_model_module_version": "1.2.0",
            "_view_count": null,
            "flex_flow": null,
            "width": null,
            "min_width": null,
            "border": null,
            "align_items": null,
            "bottom": null,
            "_model_module": "@jupyter-widgets/base",
            "top": null,
            "grid_column": null,
            "overflow_y": null,
            "overflow_x": null,
            "grid_auto_flow": null,
            "grid_area": null,
            "grid_template_columns": null,
            "flex": null,
            "_model_name": "LayoutModel",
            "justify_items": null,
            "grid_row": null,
            "max_height": null,
            "align_content": null,
            "visibility": null,
            "align_self": null,
            "height": null,
            "min_height": null,
            "padding": null,
            "grid_auto_rows": null,
            "grid_gap": null,
            "max_width": null,
            "order": null,
            "_view_module_version": "1.2.0",
            "grid_template_areas": null,
            "object_position": null,
            "object_fit": null,
            "grid_auto_columns": null,
            "margin": null,
            "display": null,
            "left": null
          }
        },
        "d43bbd8e0f10403681cb8da5bd6e305f": {
          "model_module": "@jupyter-widgets/controls",
          "model_name": "ProgressStyleModel",
          "model_module_version": "1.5.0",
          "state": {
            "_view_name": "StyleView",
            "_model_name": "ProgressStyleModel",
            "description_width": "",
            "_view_module": "@jupyter-widgets/base",
            "_model_module_version": "1.5.0",
            "_view_count": null,
            "_view_module_version": "1.2.0",
            "bar_color": null,
            "_model_module": "@jupyter-widgets/controls"
          }
        },
        "0efd01a0ca794ed3913ad00e130114b9": {
          "model_module": "@jupyter-widgets/base",
          "model_name": "LayoutModel",
          "model_module_version": "1.2.0",
          "state": {
            "_view_name": "LayoutView",
            "grid_template_rows": null,
            "right": null,
            "justify_content": null,
            "_view_module": "@jupyter-widgets/base",
            "overflow": null,
            "_model_module_version": "1.2.0",
            "_view_count": null,
            "flex_flow": null,
            "width": null,
            "min_width": null,
            "border": null,
            "align_items": null,
            "bottom": null,
            "_model_module": "@jupyter-widgets/base",
            "top": null,
            "grid_column": null,
            "overflow_y": null,
            "overflow_x": null,
            "grid_auto_flow": null,
            "grid_area": null,
            "grid_template_columns": null,
            "flex": null,
            "_model_name": "LayoutModel",
            "justify_items": null,
            "grid_row": null,
            "max_height": null,
            "align_content": null,
            "visibility": null,
            "align_self": null,
            "height": null,
            "min_height": null,
            "padding": null,
            "grid_auto_rows": null,
            "grid_gap": null,
            "max_width": null,
            "order": null,
            "_view_module_version": "1.2.0",
            "grid_template_areas": null,
            "object_position": null,
            "object_fit": null,
            "grid_auto_columns": null,
            "margin": null,
            "display": null,
            "left": null
          }
        },
        "55ded5a4edb8443c9e71dc3c324ae46e": {
          "model_module": "@jupyter-widgets/controls",
          "model_name": "DescriptionStyleModel",
          "model_module_version": "1.5.0",
          "state": {
            "_view_name": "StyleView",
            "_model_name": "DescriptionStyleModel",
            "description_width": "",
            "_view_module": "@jupyter-widgets/base",
            "_model_module_version": "1.5.0",
            "_view_count": null,
            "_view_module_version": "1.2.0",
            "_model_module": "@jupyter-widgets/controls"
          }
        },
        "7f5866cc1da44666a70acad188dfc5a8": {
          "model_module": "@jupyter-widgets/base",
          "model_name": "LayoutModel",
          "model_module_version": "1.2.0",
          "state": {
            "_view_name": "LayoutView",
            "grid_template_rows": null,
            "right": null,
            "justify_content": null,
            "_view_module": "@jupyter-widgets/base",
            "overflow": null,
            "_model_module_version": "1.2.0",
            "_view_count": null,
            "flex_flow": null,
            "width": null,
            "min_width": null,
            "border": null,
            "align_items": null,
            "bottom": null,
            "_model_module": "@jupyter-widgets/base",
            "top": null,
            "grid_column": null,
            "overflow_y": null,
            "overflow_x": null,
            "grid_auto_flow": null,
            "grid_area": null,
            "grid_template_columns": null,
            "flex": null,
            "_model_name": "LayoutModel",
            "justify_items": null,
            "grid_row": null,
            "max_height": null,
            "align_content": null,
            "visibility": null,
            "align_self": null,
            "height": null,
            "min_height": null,
            "padding": null,
            "grid_auto_rows": null,
            "grid_gap": null,
            "max_width": null,
            "order": null,
            "_view_module_version": "1.2.0",
            "grid_template_areas": null,
            "object_position": null,
            "object_fit": null,
            "grid_auto_columns": null,
            "margin": null,
            "display": null,
            "left": null
          }
        },
        "2aebee4436114d86a3c58b31c743ea33": {
          "model_module": "@jupyter-widgets/controls",
          "model_name": "HBoxModel",
          "model_module_version": "1.5.0",
          "state": {
            "_view_name": "HBoxView",
            "_dom_classes": [],
            "_model_name": "HBoxModel",
            "_view_module": "@jupyter-widgets/controls",
            "_model_module_version": "1.5.0",
            "_view_count": null,
            "_view_module_version": "1.5.0",
            "box_style": "",
            "layout": "IPY_MODEL_b14dad12e95247818917b382f32912bd",
            "_model_module": "@jupyter-widgets/controls",
            "children": [
              "IPY_MODEL_e6b95481de3141fdb1e32df1bb4ffa44",
              "IPY_MODEL_352435d3ee5344ec9342b3a6f025a872",
              "IPY_MODEL_f2eaf6fc949b44498afa20d6abc1b4b5"
            ]
          }
        },
        "b14dad12e95247818917b382f32912bd": {
          "model_module": "@jupyter-widgets/base",
          "model_name": "LayoutModel",
          "model_module_version": "1.2.0",
          "state": {
            "_view_name": "LayoutView",
            "grid_template_rows": null,
            "right": null,
            "justify_content": null,
            "_view_module": "@jupyter-widgets/base",
            "overflow": null,
            "_model_module_version": "1.2.0",
            "_view_count": null,
            "flex_flow": null,
            "width": null,
            "min_width": null,
            "border": null,
            "align_items": null,
            "bottom": null,
            "_model_module": "@jupyter-widgets/base",
            "top": null,
            "grid_column": null,
            "overflow_y": null,
            "overflow_x": null,
            "grid_auto_flow": null,
            "grid_area": null,
            "grid_template_columns": null,
            "flex": null,
            "_model_name": "LayoutModel",
            "justify_items": null,
            "grid_row": null,
            "max_height": null,
            "align_content": null,
            "visibility": null,
            "align_self": null,
            "height": null,
            "min_height": null,
            "padding": null,
            "grid_auto_rows": null,
            "grid_gap": null,
            "max_width": null,
            "order": null,
            "_view_module_version": "1.2.0",
            "grid_template_areas": null,
            "object_position": null,
            "object_fit": null,
            "grid_auto_columns": null,
            "margin": null,
            "display": null,
            "left": null
          }
        },
        "e6b95481de3141fdb1e32df1bb4ffa44": {
          "model_module": "@jupyter-widgets/controls",
          "model_name": "HTMLModel",
          "model_module_version": "1.5.0",
          "state": {
            "_view_name": "HTMLView",
            "style": "IPY_MODEL_d333dafee08c4266b05b1066c743f88b",
            "_dom_classes": [],
            "description": "",
            "_model_name": "HTMLModel",
            "placeholder": "​",
            "_view_module": "@jupyter-widgets/controls",
            "_model_module_version": "1.5.0",
            "value": "Downloading: 100%",
            "_view_count": null,
            "_view_module_version": "1.5.0",
            "description_tooltip": null,
            "_model_module": "@jupyter-widgets/controls",
            "layout": "IPY_MODEL_a85b15e48a3841c9a178ecc77f77d174"
          }
        },
        "352435d3ee5344ec9342b3a6f025a872": {
          "model_module": "@jupyter-widgets/controls",
          "model_name": "FloatProgressModel",
          "model_module_version": "1.5.0",
          "state": {
            "_view_name": "ProgressView",
            "style": "IPY_MODEL_5a7f3f09b4a346a3a118ac8e00886381",
            "_dom_classes": [],
            "description": "",
            "_model_name": "FloatProgressModel",
            "bar_style": "success",
            "max": 93479,
            "_view_module": "@jupyter-widgets/controls",
            "_model_module_version": "1.5.0",
            "value": 93479,
            "_view_count": null,
            "_view_module_version": "1.5.0",
            "orientation": "horizontal",
            "min": 0,
            "description_tooltip": null,
            "_model_module": "@jupyter-widgets/controls",
            "layout": "IPY_MODEL_23f5b3b548d349c6a2ae52e4a7f376b4"
          }
        },
        "f2eaf6fc949b44498afa20d6abc1b4b5": {
          "model_module": "@jupyter-widgets/controls",
          "model_name": "HTMLModel",
          "model_module_version": "1.5.0",
          "state": {
            "_view_name": "HTMLView",
            "style": "IPY_MODEL_6e194433cf5c4927b27e1b2c0077e3b7",
            "_dom_classes": [],
            "description": "",
            "_model_name": "HTMLModel",
            "placeholder": "​",
            "_view_module": "@jupyter-widgets/controls",
            "_model_module_version": "1.5.0",
            "value": " 93.5k/93.5k [00:00&lt;00:00, 1.05MB/s]",
            "_view_count": null,
            "_view_module_version": "1.5.0",
            "description_tooltip": null,
            "_model_module": "@jupyter-widgets/controls",
            "layout": "IPY_MODEL_0dc6bad3f8f84edfb261f7b4ed4032b5"
          }
        },
        "d333dafee08c4266b05b1066c743f88b": {
          "model_module": "@jupyter-widgets/controls",
          "model_name": "DescriptionStyleModel",
          "model_module_version": "1.5.0",
          "state": {
            "_view_name": "StyleView",
            "_model_name": "DescriptionStyleModel",
            "description_width": "",
            "_view_module": "@jupyter-widgets/base",
            "_model_module_version": "1.5.0",
            "_view_count": null,
            "_view_module_version": "1.2.0",
            "_model_module": "@jupyter-widgets/controls"
          }
        },
        "a85b15e48a3841c9a178ecc77f77d174": {
          "model_module": "@jupyter-widgets/base",
          "model_name": "LayoutModel",
          "model_module_version": "1.2.0",
          "state": {
            "_view_name": "LayoutView",
            "grid_template_rows": null,
            "right": null,
            "justify_content": null,
            "_view_module": "@jupyter-widgets/base",
            "overflow": null,
            "_model_module_version": "1.2.0",
            "_view_count": null,
            "flex_flow": null,
            "width": null,
            "min_width": null,
            "border": null,
            "align_items": null,
            "bottom": null,
            "_model_module": "@jupyter-widgets/base",
            "top": null,
            "grid_column": null,
            "overflow_y": null,
            "overflow_x": null,
            "grid_auto_flow": null,
            "grid_area": null,
            "grid_template_columns": null,
            "flex": null,
            "_model_name": "LayoutModel",
            "justify_items": null,
            "grid_row": null,
            "max_height": null,
            "align_content": null,
            "visibility": null,
            "align_self": null,
            "height": null,
            "min_height": null,
            "padding": null,
            "grid_auto_rows": null,
            "grid_gap": null,
            "max_width": null,
            "order": null,
            "_view_module_version": "1.2.0",
            "grid_template_areas": null,
            "object_position": null,
            "object_fit": null,
            "grid_auto_columns": null,
            "margin": null,
            "display": null,
            "left": null
          }
        },
        "5a7f3f09b4a346a3a118ac8e00886381": {
          "model_module": "@jupyter-widgets/controls",
          "model_name": "ProgressStyleModel",
          "model_module_version": "1.5.0",
          "state": {
            "_view_name": "StyleView",
            "_model_name": "ProgressStyleModel",
            "description_width": "",
            "_view_module": "@jupyter-widgets/base",
            "_model_module_version": "1.5.0",
            "_view_count": null,
            "_view_module_version": "1.2.0",
            "bar_color": null,
            "_model_module": "@jupyter-widgets/controls"
          }
        },
        "23f5b3b548d349c6a2ae52e4a7f376b4": {
          "model_module": "@jupyter-widgets/base",
          "model_name": "LayoutModel",
          "model_module_version": "1.2.0",
          "state": {
            "_view_name": "LayoutView",
            "grid_template_rows": null,
            "right": null,
            "justify_content": null,
            "_view_module": "@jupyter-widgets/base",
            "overflow": null,
            "_model_module_version": "1.2.0",
            "_view_count": null,
            "flex_flow": null,
            "width": null,
            "min_width": null,
            "border": null,
            "align_items": null,
            "bottom": null,
            "_model_module": "@jupyter-widgets/base",
            "top": null,
            "grid_column": null,
            "overflow_y": null,
            "overflow_x": null,
            "grid_auto_flow": null,
            "grid_area": null,
            "grid_template_columns": null,
            "flex": null,
            "_model_name": "LayoutModel",
            "justify_items": null,
            "grid_row": null,
            "max_height": null,
            "align_content": null,
            "visibility": null,
            "align_self": null,
            "height": null,
            "min_height": null,
            "padding": null,
            "grid_auto_rows": null,
            "grid_gap": null,
            "max_width": null,
            "order": null,
            "_view_module_version": "1.2.0",
            "grid_template_areas": null,
            "object_position": null,
            "object_fit": null,
            "grid_auto_columns": null,
            "margin": null,
            "display": null,
            "left": null
          }
        },
        "6e194433cf5c4927b27e1b2c0077e3b7": {
          "model_module": "@jupyter-widgets/controls",
          "model_name": "DescriptionStyleModel",
          "model_module_version": "1.5.0",
          "state": {
            "_view_name": "StyleView",
            "_model_name": "DescriptionStyleModel",
            "description_width": "",
            "_view_module": "@jupyter-widgets/base",
            "_model_module_version": "1.5.0",
            "_view_count": null,
            "_view_module_version": "1.2.0",
            "_model_module": "@jupyter-widgets/controls"
          }
        },
        "0dc6bad3f8f84edfb261f7b4ed4032b5": {
          "model_module": "@jupyter-widgets/base",
          "model_name": "LayoutModel",
          "model_module_version": "1.2.0",
          "state": {
            "_view_name": "LayoutView",
            "grid_template_rows": null,
            "right": null,
            "justify_content": null,
            "_view_module": "@jupyter-widgets/base",
            "overflow": null,
            "_model_module_version": "1.2.0",
            "_view_count": null,
            "flex_flow": null,
            "width": null,
            "min_width": null,
            "border": null,
            "align_items": null,
            "bottom": null,
            "_model_module": "@jupyter-widgets/base",
            "top": null,
            "grid_column": null,
            "overflow_y": null,
            "overflow_x": null,
            "grid_auto_flow": null,
            "grid_area": null,
            "grid_template_columns": null,
            "flex": null,
            "_model_name": "LayoutModel",
            "justify_items": null,
            "grid_row": null,
            "max_height": null,
            "align_content": null,
            "visibility": null,
            "align_self": null,
            "height": null,
            "min_height": null,
            "padding": null,
            "grid_auto_rows": null,
            "grid_gap": null,
            "max_width": null,
            "order": null,
            "_view_module_version": "1.2.0",
            "grid_template_areas": null,
            "object_position": null,
            "object_fit": null,
            "grid_auto_columns": null,
            "margin": null,
            "display": null,
            "left": null
          }
        },
        "bf2d56586f7b45609499bee3dd7be009": {
          "model_module": "@jupyter-widgets/controls",
          "model_name": "HBoxModel",
          "model_module_version": "1.5.0",
          "state": {
            "_view_name": "HBoxView",
            "_dom_classes": [],
            "_model_name": "HBoxModel",
            "_view_module": "@jupyter-widgets/controls",
            "_model_module_version": "1.5.0",
            "_view_count": null,
            "_view_module_version": "1.5.0",
            "box_style": "",
            "layout": "IPY_MODEL_0b08b3cad6574727af8768eb6b2cf1e9",
            "_model_module": "@jupyter-widgets/controls",
            "children": [
              "IPY_MODEL_32b73e529138457ca30141857b3f1ff8",
              "IPY_MODEL_81a93f6c842b4c8496781404c668a727",
              "IPY_MODEL_b4d97b6f7d9745e385f3bd1fdf4b76ab"
            ]
          }
        },
        "0b08b3cad6574727af8768eb6b2cf1e9": {
          "model_module": "@jupyter-widgets/base",
          "model_name": "LayoutModel",
          "model_module_version": "1.2.0",
          "state": {
            "_view_name": "LayoutView",
            "grid_template_rows": null,
            "right": null,
            "justify_content": null,
            "_view_module": "@jupyter-widgets/base",
            "overflow": null,
            "_model_module_version": "1.2.0",
            "_view_count": null,
            "flex_flow": null,
            "width": null,
            "min_width": null,
            "border": null,
            "align_items": null,
            "bottom": null,
            "_model_module": "@jupyter-widgets/base",
            "top": null,
            "grid_column": null,
            "overflow_y": null,
            "overflow_x": null,
            "grid_auto_flow": null,
            "grid_area": null,
            "grid_template_columns": null,
            "flex": null,
            "_model_name": "LayoutModel",
            "justify_items": null,
            "grid_row": null,
            "max_height": null,
            "align_content": null,
            "visibility": null,
            "align_self": null,
            "height": null,
            "min_height": null,
            "padding": null,
            "grid_auto_rows": null,
            "grid_gap": null,
            "max_width": null,
            "order": null,
            "_view_module_version": "1.2.0",
            "grid_template_areas": null,
            "object_position": null,
            "object_fit": null,
            "grid_auto_columns": null,
            "margin": null,
            "display": null,
            "left": null
          }
        },
        "32b73e529138457ca30141857b3f1ff8": {
          "model_module": "@jupyter-widgets/controls",
          "model_name": "HTMLModel",
          "model_module_version": "1.5.0",
          "state": {
            "_view_name": "HTMLView",
            "style": "IPY_MODEL_9888fbff9bec437fa0b05f92b673b8c1",
            "_dom_classes": [],
            "description": "",
            "_model_name": "HTMLModel",
            "placeholder": "​",
            "_view_module": "@jupyter-widgets/controls",
            "_model_module_version": "1.5.0",
            "value": "Downloading: 100%",
            "_view_count": null,
            "_view_module_version": "1.5.0",
            "description_tooltip": null,
            "_model_module": "@jupyter-widgets/controls",
            "layout": "IPY_MODEL_d365aa8be4f94e2092209af38f3e3a76"
          }
        },
        "81a93f6c842b4c8496781404c668a727": {
          "model_module": "@jupyter-widgets/controls",
          "model_name": "FloatProgressModel",
          "model_module_version": "1.5.0",
          "state": {
            "_view_name": "ProgressView",
            "style": "IPY_MODEL_56b872a39ddb4826abd4fb12e451d9b0",
            "_dom_classes": [],
            "description": "",
            "_model_name": "FloatProgressModel",
            "bar_style": "success",
            "max": 418326249,
            "_view_module": "@jupyter-widgets/controls",
            "_model_module_version": "1.5.0",
            "value": 418326249,
            "_view_count": null,
            "_view_module_version": "1.5.0",
            "orientation": "horizontal",
            "min": 0,
            "description_tooltip": null,
            "_model_module": "@jupyter-widgets/controls",
            "layout": "IPY_MODEL_310c6910d9274664bf9142c1384921e6"
          }
        },
        "b4d97b6f7d9745e385f3bd1fdf4b76ab": {
          "model_module": "@jupyter-widgets/controls",
          "model_name": "HTMLModel",
          "model_module_version": "1.5.0",
          "state": {
            "_view_name": "HTMLView",
            "style": "IPY_MODEL_b42849c7ff9a4fafb598929a366e3668",
            "_dom_classes": [],
            "description": "",
            "_model_name": "HTMLModel",
            "placeholder": "​",
            "_view_module": "@jupyter-widgets/controls",
            "_model_module_version": "1.5.0",
            "value": " 418M/418M [00:14&lt;00:00, 27.0MB/s]",
            "_view_count": null,
            "_view_module_version": "1.5.0",
            "description_tooltip": null,
            "_model_module": "@jupyter-widgets/controls",
            "layout": "IPY_MODEL_f2436aa59aca4e94bec833be9a5a0cd9"
          }
        },
        "9888fbff9bec437fa0b05f92b673b8c1": {
          "model_module": "@jupyter-widgets/controls",
          "model_name": "DescriptionStyleModel",
          "model_module_version": "1.5.0",
          "state": {
            "_view_name": "StyleView",
            "_model_name": "DescriptionStyleModel",
            "description_width": "",
            "_view_module": "@jupyter-widgets/base",
            "_model_module_version": "1.5.0",
            "_view_count": null,
            "_view_module_version": "1.2.0",
            "_model_module": "@jupyter-widgets/controls"
          }
        },
        "d365aa8be4f94e2092209af38f3e3a76": {
          "model_module": "@jupyter-widgets/base",
          "model_name": "LayoutModel",
          "model_module_version": "1.2.0",
          "state": {
            "_view_name": "LayoutView",
            "grid_template_rows": null,
            "right": null,
            "justify_content": null,
            "_view_module": "@jupyter-widgets/base",
            "overflow": null,
            "_model_module_version": "1.2.0",
            "_view_count": null,
            "flex_flow": null,
            "width": null,
            "min_width": null,
            "border": null,
            "align_items": null,
            "bottom": null,
            "_model_module": "@jupyter-widgets/base",
            "top": null,
            "grid_column": null,
            "overflow_y": null,
            "overflow_x": null,
            "grid_auto_flow": null,
            "grid_area": null,
            "grid_template_columns": null,
            "flex": null,
            "_model_name": "LayoutModel",
            "justify_items": null,
            "grid_row": null,
            "max_height": null,
            "align_content": null,
            "visibility": null,
            "align_self": null,
            "height": null,
            "min_height": null,
            "padding": null,
            "grid_auto_rows": null,
            "grid_gap": null,
            "max_width": null,
            "order": null,
            "_view_module_version": "1.2.0",
            "grid_template_areas": null,
            "object_position": null,
            "object_fit": null,
            "grid_auto_columns": null,
            "margin": null,
            "display": null,
            "left": null
          }
        },
        "56b872a39ddb4826abd4fb12e451d9b0": {
          "model_module": "@jupyter-widgets/controls",
          "model_name": "ProgressStyleModel",
          "model_module_version": "1.5.0",
          "state": {
            "_view_name": "StyleView",
            "_model_name": "ProgressStyleModel",
            "description_width": "",
            "_view_module": "@jupyter-widgets/base",
            "_model_module_version": "1.5.0",
            "_view_count": null,
            "_view_module_version": "1.2.0",
            "bar_color": null,
            "_model_module": "@jupyter-widgets/controls"
          }
        },
        "310c6910d9274664bf9142c1384921e6": {
          "model_module": "@jupyter-widgets/base",
          "model_name": "LayoutModel",
          "model_module_version": "1.2.0",
          "state": {
            "_view_name": "LayoutView",
            "grid_template_rows": null,
            "right": null,
            "justify_content": null,
            "_view_module": "@jupyter-widgets/base",
            "overflow": null,
            "_model_module_version": "1.2.0",
            "_view_count": null,
            "flex_flow": null,
            "width": null,
            "min_width": null,
            "border": null,
            "align_items": null,
            "bottom": null,
            "_model_module": "@jupyter-widgets/base",
            "top": null,
            "grid_column": null,
            "overflow_y": null,
            "overflow_x": null,
            "grid_auto_flow": null,
            "grid_area": null,
            "grid_template_columns": null,
            "flex": null,
            "_model_name": "LayoutModel",
            "justify_items": null,
            "grid_row": null,
            "max_height": null,
            "align_content": null,
            "visibility": null,
            "align_self": null,
            "height": null,
            "min_height": null,
            "padding": null,
            "grid_auto_rows": null,
            "grid_gap": null,
            "max_width": null,
            "order": null,
            "_view_module_version": "1.2.0",
            "grid_template_areas": null,
            "object_position": null,
            "object_fit": null,
            "grid_auto_columns": null,
            "margin": null,
            "display": null,
            "left": null
          }
        },
        "b42849c7ff9a4fafb598929a366e3668": {
          "model_module": "@jupyter-widgets/controls",
          "model_name": "DescriptionStyleModel",
          "model_module_version": "1.5.0",
          "state": {
            "_view_name": "StyleView",
            "_model_name": "DescriptionStyleModel",
            "description_width": "",
            "_view_module": "@jupyter-widgets/base",
            "_model_module_version": "1.5.0",
            "_view_count": null,
            "_view_module_version": "1.2.0",
            "_model_module": "@jupyter-widgets/controls"
          }
        },
        "f2436aa59aca4e94bec833be9a5a0cd9": {
          "model_module": "@jupyter-widgets/base",
          "model_name": "LayoutModel",
          "model_module_version": "1.2.0",
          "state": {
            "_view_name": "LayoutView",
            "grid_template_rows": null,
            "right": null,
            "justify_content": null,
            "_view_module": "@jupyter-widgets/base",
            "overflow": null,
            "_model_module_version": "1.2.0",
            "_view_count": null,
            "flex_flow": null,
            "width": null,
            "min_width": null,
            "border": null,
            "align_items": null,
            "bottom": null,
            "_model_module": "@jupyter-widgets/base",
            "top": null,
            "grid_column": null,
            "overflow_y": null,
            "overflow_x": null,
            "grid_auto_flow": null,
            "grid_area": null,
            "grid_template_columns": null,
            "flex": null,
            "_model_name": "LayoutModel",
            "justify_items": null,
            "grid_row": null,
            "max_height": null,
            "align_content": null,
            "visibility": null,
            "align_self": null,
            "height": null,
            "min_height": null,
            "padding": null,
            "grid_auto_rows": null,
            "grid_gap": null,
            "max_width": null,
            "order": null,
            "_view_module_version": "1.2.0",
            "grid_template_areas": null,
            "object_position": null,
            "object_fit": null,
            "grid_auto_columns": null,
            "margin": null,
            "display": null,
            "left": null
          }
        },
        "d54bdef63d024767a4352d7ed2990c07": {
          "model_module": "@jupyter-widgets/controls",
          "model_name": "HBoxModel",
          "model_module_version": "1.5.0",
          "state": {
            "_view_name": "HBoxView",
            "_dom_classes": [],
            "_model_name": "HBoxModel",
            "_view_module": "@jupyter-widgets/controls",
            "_model_module_version": "1.5.0",
            "_view_count": null,
            "_view_module_version": "1.5.0",
            "box_style": "",
            "layout": "IPY_MODEL_b6156e81fd464f1f944992a45e467572",
            "_model_module": "@jupyter-widgets/controls",
            "children": [
              "IPY_MODEL_e1ad839f895a4583a998c2ecfd593e91",
              "IPY_MODEL_a23de330686b403e8acb672be78d2d40",
              "IPY_MODEL_d41e8c54475f4bbab183995ad5c96be3"
            ]
          }
        },
        "b6156e81fd464f1f944992a45e467572": {
          "model_module": "@jupyter-widgets/base",
          "model_name": "LayoutModel",
          "model_module_version": "1.2.0",
          "state": {
            "_view_name": "LayoutView",
            "grid_template_rows": null,
            "right": null,
            "justify_content": null,
            "_view_module": "@jupyter-widgets/base",
            "overflow": null,
            "_model_module_version": "1.2.0",
            "_view_count": null,
            "flex_flow": null,
            "width": null,
            "min_width": null,
            "border": null,
            "align_items": null,
            "bottom": null,
            "_model_module": "@jupyter-widgets/base",
            "top": null,
            "grid_column": null,
            "overflow_y": null,
            "overflow_x": null,
            "grid_auto_flow": null,
            "grid_area": null,
            "grid_template_columns": null,
            "flex": null,
            "_model_name": "LayoutModel",
            "justify_items": null,
            "grid_row": null,
            "max_height": null,
            "align_content": null,
            "visibility": null,
            "align_self": null,
            "height": null,
            "min_height": null,
            "padding": null,
            "grid_auto_rows": null,
            "grid_gap": null,
            "max_width": null,
            "order": null,
            "_view_module_version": "1.2.0",
            "grid_template_areas": null,
            "object_position": null,
            "object_fit": null,
            "grid_auto_columns": null,
            "margin": null,
            "display": null,
            "left": null
          }
        },
        "e1ad839f895a4583a998c2ecfd593e91": {
          "model_module": "@jupyter-widgets/controls",
          "model_name": "HTMLModel",
          "model_module_version": "1.5.0",
          "state": {
            "_view_name": "HTMLView",
            "style": "IPY_MODEL_4bb882714d3240ed8e4410ed5808d19d",
            "_dom_classes": [],
            "description": "",
            "_model_name": "HTMLModel",
            "placeholder": "​",
            "_view_module": "@jupyter-widgets/controls",
            "_model_module_version": "1.5.0",
            "value": "100%",
            "_view_count": null,
            "_view_module_version": "1.5.0",
            "description_tooltip": null,
            "_model_module": "@jupyter-widgets/controls",
            "layout": "IPY_MODEL_05dfa52709f5439085e1b3e61b237308"
          }
        },
        "a23de330686b403e8acb672be78d2d40": {
          "model_module": "@jupyter-widgets/controls",
          "model_name": "FloatProgressModel",
          "model_module_version": "1.5.0",
          "state": {
            "_view_name": "ProgressView",
            "style": "IPY_MODEL_917b0ac90f3e4f2783bcab06440bb657",
            "_dom_classes": [],
            "description": "",
            "_model_name": "FloatProgressModel",
            "bar_style": "",
            "max": 4360,
            "_view_module": "@jupyter-widgets/controls",
            "_model_module_version": "1.5.0",
            "value": 4360,
            "_view_count": null,
            "_view_module_version": "1.5.0",
            "orientation": "horizontal",
            "min": 0,
            "description_tooltip": null,
            "_model_module": "@jupyter-widgets/controls",
            "layout": "IPY_MODEL_f260a235139749428a255eed1e8abab5"
          }
        },
        "d41e8c54475f4bbab183995ad5c96be3": {
          "model_module": "@jupyter-widgets/controls",
          "model_name": "HTMLModel",
          "model_module_version": "1.5.0",
          "state": {
            "_view_name": "HTMLView",
            "style": "IPY_MODEL_956404a8544b4e799beec80f9e513b22",
            "_dom_classes": [],
            "description": "",
            "_model_name": "HTMLModel",
            "placeholder": "​",
            "_view_module": "@jupyter-widgets/controls",
            "_model_module_version": "1.5.0",
            "value": " 4360/4360 [07:18&lt;00:00, 10.23it/s]",
            "_view_count": null,
            "_view_module_version": "1.5.0",
            "description_tooltip": null,
            "_model_module": "@jupyter-widgets/controls",
            "layout": "IPY_MODEL_07fcbeb6fb3e4883a063491e4c572126"
          }
        },
        "4bb882714d3240ed8e4410ed5808d19d": {
          "model_module": "@jupyter-widgets/controls",
          "model_name": "DescriptionStyleModel",
          "model_module_version": "1.5.0",
          "state": {
            "_view_name": "StyleView",
            "_model_name": "DescriptionStyleModel",
            "description_width": "",
            "_view_module": "@jupyter-widgets/base",
            "_model_module_version": "1.5.0",
            "_view_count": null,
            "_view_module_version": "1.2.0",
            "_model_module": "@jupyter-widgets/controls"
          }
        },
        "05dfa52709f5439085e1b3e61b237308": {
          "model_module": "@jupyter-widgets/base",
          "model_name": "LayoutModel",
          "model_module_version": "1.2.0",
          "state": {
            "_view_name": "LayoutView",
            "grid_template_rows": null,
            "right": null,
            "justify_content": null,
            "_view_module": "@jupyter-widgets/base",
            "overflow": null,
            "_model_module_version": "1.2.0",
            "_view_count": null,
            "flex_flow": null,
            "width": null,
            "min_width": null,
            "border": null,
            "align_items": null,
            "bottom": null,
            "_model_module": "@jupyter-widgets/base",
            "top": null,
            "grid_column": null,
            "overflow_y": null,
            "overflow_x": null,
            "grid_auto_flow": null,
            "grid_area": null,
            "grid_template_columns": null,
            "flex": null,
            "_model_name": "LayoutModel",
            "justify_items": null,
            "grid_row": null,
            "max_height": null,
            "align_content": null,
            "visibility": null,
            "align_self": null,
            "height": null,
            "min_height": null,
            "padding": null,
            "grid_auto_rows": null,
            "grid_gap": null,
            "max_width": null,
            "order": null,
            "_view_module_version": "1.2.0",
            "grid_template_areas": null,
            "object_position": null,
            "object_fit": null,
            "grid_auto_columns": null,
            "margin": null,
            "display": null,
            "left": null
          }
        },
        "917b0ac90f3e4f2783bcab06440bb657": {
          "model_module": "@jupyter-widgets/controls",
          "model_name": "ProgressStyleModel",
          "model_module_version": "1.5.0",
          "state": {
            "_view_name": "StyleView",
            "_model_name": "ProgressStyleModel",
            "description_width": "",
            "_view_module": "@jupyter-widgets/base",
            "_model_module_version": "1.5.0",
            "_view_count": null,
            "_view_module_version": "1.2.0",
            "bar_color": null,
            "_model_module": "@jupyter-widgets/controls"
          }
        },
        "f260a235139749428a255eed1e8abab5": {
          "model_module": "@jupyter-widgets/base",
          "model_name": "LayoutModel",
          "model_module_version": "1.2.0",
          "state": {
            "_view_name": "LayoutView",
            "grid_template_rows": null,
            "right": null,
            "justify_content": null,
            "_view_module": "@jupyter-widgets/base",
            "overflow": null,
            "_model_module_version": "1.2.0",
            "_view_count": null,
            "flex_flow": null,
            "width": null,
            "min_width": null,
            "border": null,
            "align_items": null,
            "bottom": null,
            "_model_module": "@jupyter-widgets/base",
            "top": null,
            "grid_column": null,
            "overflow_y": null,
            "overflow_x": null,
            "grid_auto_flow": null,
            "grid_area": null,
            "grid_template_columns": null,
            "flex": null,
            "_model_name": "LayoutModel",
            "justify_items": null,
            "grid_row": null,
            "max_height": null,
            "align_content": null,
            "visibility": null,
            "align_self": null,
            "height": null,
            "min_height": null,
            "padding": null,
            "grid_auto_rows": null,
            "grid_gap": null,
            "max_width": null,
            "order": null,
            "_view_module_version": "1.2.0",
            "grid_template_areas": null,
            "object_position": null,
            "object_fit": null,
            "grid_auto_columns": null,
            "margin": null,
            "display": null,
            "left": null
          }
        },
        "956404a8544b4e799beec80f9e513b22": {
          "model_module": "@jupyter-widgets/controls",
          "model_name": "DescriptionStyleModel",
          "model_module_version": "1.5.0",
          "state": {
            "_view_name": "StyleView",
            "_model_name": "DescriptionStyleModel",
            "description_width": "",
            "_view_module": "@jupyter-widgets/base",
            "_model_module_version": "1.5.0",
            "_view_count": null,
            "_view_module_version": "1.2.0",
            "_model_module": "@jupyter-widgets/controls"
          }
        },
        "07fcbeb6fb3e4883a063491e4c572126": {
          "model_module": "@jupyter-widgets/base",
          "model_name": "LayoutModel",
          "model_module_version": "1.2.0",
          "state": {
            "_view_name": "LayoutView",
            "grid_template_rows": null,
            "right": null,
            "justify_content": null,
            "_view_module": "@jupyter-widgets/base",
            "overflow": null,
            "_model_module_version": "1.2.0",
            "_view_count": null,
            "flex_flow": null,
            "width": null,
            "min_width": null,
            "border": null,
            "align_items": null,
            "bottom": null,
            "_model_module": "@jupyter-widgets/base",
            "top": null,
            "grid_column": null,
            "overflow_y": null,
            "overflow_x": null,
            "grid_auto_flow": null,
            "grid_area": null,
            "grid_template_columns": null,
            "flex": null,
            "_model_name": "LayoutModel",
            "justify_items": null,
            "grid_row": null,
            "max_height": null,
            "align_content": null,
            "visibility": null,
            "align_self": null,
            "height": null,
            "min_height": null,
            "padding": null,
            "grid_auto_rows": null,
            "grid_gap": null,
            "max_width": null,
            "order": null,
            "_view_module_version": "1.2.0",
            "grid_template_areas": null,
            "object_position": null,
            "object_fit": null,
            "grid_auto_columns": null,
            "margin": null,
            "display": null,
            "left": null
          }
        },
        "e94f782b94a344c8af661a27225a1592": {
          "model_module": "@jupyter-widgets/controls",
          "model_name": "HBoxModel",
          "model_module_version": "1.5.0",
          "state": {
            "_view_name": "HBoxView",
            "_dom_classes": [],
            "_model_name": "HBoxModel",
            "_view_module": "@jupyter-widgets/controls",
            "_model_module_version": "1.5.0",
            "_view_count": null,
            "_view_module_version": "1.5.0",
            "box_style": "",
            "layout": "IPY_MODEL_f0d09c4161ce42279b34f59b4811c05b",
            "_model_module": "@jupyter-widgets/controls",
            "children": [
              "IPY_MODEL_ddcf91421d6c42f49618890d5abc06d1",
              "IPY_MODEL_bfecaaf3b3f24be39658ba02eca056ad",
              "IPY_MODEL_a5f5c39358ca48f08b462bd1265b0f3b"
            ]
          }
        },
        "f0d09c4161ce42279b34f59b4811c05b": {
          "model_module": "@jupyter-widgets/base",
          "model_name": "LayoutModel",
          "model_module_version": "1.2.0",
          "state": {
            "_view_name": "LayoutView",
            "grid_template_rows": null,
            "right": null,
            "justify_content": null,
            "_view_module": "@jupyter-widgets/base",
            "overflow": null,
            "_model_module_version": "1.2.0",
            "_view_count": null,
            "flex_flow": null,
            "width": null,
            "min_width": null,
            "border": null,
            "align_items": null,
            "bottom": null,
            "_model_module": "@jupyter-widgets/base",
            "top": null,
            "grid_column": null,
            "overflow_y": null,
            "overflow_x": null,
            "grid_auto_flow": null,
            "grid_area": null,
            "grid_template_columns": null,
            "flex": null,
            "_model_name": "LayoutModel",
            "justify_items": null,
            "grid_row": null,
            "max_height": null,
            "align_content": null,
            "visibility": null,
            "align_self": null,
            "height": null,
            "min_height": null,
            "padding": null,
            "grid_auto_rows": null,
            "grid_gap": null,
            "max_width": null,
            "order": null,
            "_view_module_version": "1.2.0",
            "grid_template_areas": null,
            "object_position": null,
            "object_fit": null,
            "grid_auto_columns": null,
            "margin": null,
            "display": null,
            "left": null
          }
        },
        "ddcf91421d6c42f49618890d5abc06d1": {
          "model_module": "@jupyter-widgets/controls",
          "model_name": "HTMLModel",
          "model_module_version": "1.5.0",
          "state": {
            "_view_name": "HTMLView",
            "style": "IPY_MODEL_1d93d4a903244aa590429eb8dfd9e09d",
            "_dom_classes": [],
            "description": "",
            "_model_name": "HTMLModel",
            "placeholder": "​",
            "_view_module": "@jupyter-widgets/controls",
            "_model_module_version": "1.5.0",
            "value": "100%",
            "_view_count": null,
            "_view_module_version": "1.5.0",
            "description_tooltip": null,
            "_model_module": "@jupyter-widgets/controls",
            "layout": "IPY_MODEL_286f110ed7d445189e586546c473f72e"
          }
        },
        "bfecaaf3b3f24be39658ba02eca056ad": {
          "model_module": "@jupyter-widgets/controls",
          "model_name": "FloatProgressModel",
          "model_module_version": "1.5.0",
          "state": {
            "_view_name": "ProgressView",
            "style": "IPY_MODEL_7286f0e24e1347568916b9cbc995bccb",
            "_dom_classes": [],
            "description": "",
            "_model_name": "FloatProgressModel",
            "bar_style": "",
            "max": 1001,
            "_view_module": "@jupyter-widgets/controls",
            "_model_module_version": "1.5.0",
            "value": 1001,
            "_view_count": null,
            "_view_module_version": "1.5.0",
            "orientation": "horizontal",
            "min": 0,
            "description_tooltip": null,
            "_model_module": "@jupyter-widgets/controls",
            "layout": "IPY_MODEL_c4524a28646647b6a2b056e1d3bbb1b3"
          }
        },
        "a5f5c39358ca48f08b462bd1265b0f3b": {
          "model_module": "@jupyter-widgets/controls",
          "model_name": "HTMLModel",
          "model_module_version": "1.5.0",
          "state": {
            "_view_name": "HTMLView",
            "style": "IPY_MODEL_0a24e41172914d2aa6f2011fbe4115f4",
            "_dom_classes": [],
            "description": "",
            "_model_name": "HTMLModel",
            "placeholder": "​",
            "_view_module": "@jupyter-widgets/controls",
            "_model_module_version": "1.5.0",
            "value": " 1001/1001 [00:31&lt;00:00, 99.08it/s]",
            "_view_count": null,
            "_view_module_version": "1.5.0",
            "description_tooltip": null,
            "_model_module": "@jupyter-widgets/controls",
            "layout": "IPY_MODEL_9605e020607142a19d71c808265c84bb"
          }
        },
        "1d93d4a903244aa590429eb8dfd9e09d": {
          "model_module": "@jupyter-widgets/controls",
          "model_name": "DescriptionStyleModel",
          "model_module_version": "1.5.0",
          "state": {
            "_view_name": "StyleView",
            "_model_name": "DescriptionStyleModel",
            "description_width": "",
            "_view_module": "@jupyter-widgets/base",
            "_model_module_version": "1.5.0",
            "_view_count": null,
            "_view_module_version": "1.2.0",
            "_model_module": "@jupyter-widgets/controls"
          }
        },
        "286f110ed7d445189e586546c473f72e": {
          "model_module": "@jupyter-widgets/base",
          "model_name": "LayoutModel",
          "model_module_version": "1.2.0",
          "state": {
            "_view_name": "LayoutView",
            "grid_template_rows": null,
            "right": null,
            "justify_content": null,
            "_view_module": "@jupyter-widgets/base",
            "overflow": null,
            "_model_module_version": "1.2.0",
            "_view_count": null,
            "flex_flow": null,
            "width": null,
            "min_width": null,
            "border": null,
            "align_items": null,
            "bottom": null,
            "_model_module": "@jupyter-widgets/base",
            "top": null,
            "grid_column": null,
            "overflow_y": null,
            "overflow_x": null,
            "grid_auto_flow": null,
            "grid_area": null,
            "grid_template_columns": null,
            "flex": null,
            "_model_name": "LayoutModel",
            "justify_items": null,
            "grid_row": null,
            "max_height": null,
            "align_content": null,
            "visibility": null,
            "align_self": null,
            "height": null,
            "min_height": null,
            "padding": null,
            "grid_auto_rows": null,
            "grid_gap": null,
            "max_width": null,
            "order": null,
            "_view_module_version": "1.2.0",
            "grid_template_areas": null,
            "object_position": null,
            "object_fit": null,
            "grid_auto_columns": null,
            "margin": null,
            "display": null,
            "left": null
          }
        },
        "7286f0e24e1347568916b9cbc995bccb": {
          "model_module": "@jupyter-widgets/controls",
          "model_name": "ProgressStyleModel",
          "model_module_version": "1.5.0",
          "state": {
            "_view_name": "StyleView",
            "_model_name": "ProgressStyleModel",
            "description_width": "",
            "_view_module": "@jupyter-widgets/base",
            "_model_module_version": "1.5.0",
            "_view_count": null,
            "_view_module_version": "1.2.0",
            "bar_color": null,
            "_model_module": "@jupyter-widgets/controls"
          }
        },
        "c4524a28646647b6a2b056e1d3bbb1b3": {
          "model_module": "@jupyter-widgets/base",
          "model_name": "LayoutModel",
          "model_module_version": "1.2.0",
          "state": {
            "_view_name": "LayoutView",
            "grid_template_rows": null,
            "right": null,
            "justify_content": null,
            "_view_module": "@jupyter-widgets/base",
            "overflow": null,
            "_model_module_version": "1.2.0",
            "_view_count": null,
            "flex_flow": null,
            "width": null,
            "min_width": null,
            "border": null,
            "align_items": null,
            "bottom": null,
            "_model_module": "@jupyter-widgets/base",
            "top": null,
            "grid_column": null,
            "overflow_y": null,
            "overflow_x": null,
            "grid_auto_flow": null,
            "grid_area": null,
            "grid_template_columns": null,
            "flex": null,
            "_model_name": "LayoutModel",
            "justify_items": null,
            "grid_row": null,
            "max_height": null,
            "align_content": null,
            "visibility": null,
            "align_self": null,
            "height": null,
            "min_height": null,
            "padding": null,
            "grid_auto_rows": null,
            "grid_gap": null,
            "max_width": null,
            "order": null,
            "_view_module_version": "1.2.0",
            "grid_template_areas": null,
            "object_position": null,
            "object_fit": null,
            "grid_auto_columns": null,
            "margin": null,
            "display": null,
            "left": null
          }
        },
        "0a24e41172914d2aa6f2011fbe4115f4": {
          "model_module": "@jupyter-widgets/controls",
          "model_name": "DescriptionStyleModel",
          "model_module_version": "1.5.0",
          "state": {
            "_view_name": "StyleView",
            "_model_name": "DescriptionStyleModel",
            "description_width": "",
            "_view_module": "@jupyter-widgets/base",
            "_model_module_version": "1.5.0",
            "_view_count": null,
            "_view_module_version": "1.2.0",
            "_model_module": "@jupyter-widgets/controls"
          }
        },
        "9605e020607142a19d71c808265c84bb": {
          "model_module": "@jupyter-widgets/base",
          "model_name": "LayoutModel",
          "model_module_version": "1.2.0",
          "state": {
            "_view_name": "LayoutView",
            "grid_template_rows": null,
            "right": null,
            "justify_content": null,
            "_view_module": "@jupyter-widgets/base",
            "overflow": null,
            "_model_module_version": "1.2.0",
            "_view_count": null,
            "flex_flow": null,
            "width": null,
            "min_width": null,
            "border": null,
            "align_items": null,
            "bottom": null,
            "_model_module": "@jupyter-widgets/base",
            "top": null,
            "grid_column": null,
            "overflow_y": null,
            "overflow_x": null,
            "grid_auto_flow": null,
            "grid_area": null,
            "grid_template_columns": null,
            "flex": null,
            "_model_name": "LayoutModel",
            "justify_items": null,
            "grid_row": null,
            "max_height": null,
            "align_content": null,
            "visibility": null,
            "align_self": null,
            "height": null,
            "min_height": null,
            "padding": null,
            "grid_auto_rows": null,
            "grid_gap": null,
            "max_width": null,
            "order": null,
            "_view_module_version": "1.2.0",
            "grid_template_areas": null,
            "object_position": null,
            "object_fit": null,
            "grid_auto_columns": null,
            "margin": null,
            "display": null,
            "left": null
          }
        }
      }
    },
    "accelerator": "GPU"
  },
  "cells": [
    {
      "cell_type": "markdown",
      "metadata": {
        "id": "view-in-github",
        "colab_type": "text"
      },
      "source": [
        "<a href=\"https://colab.research.google.com/github/alanjding/old-chinese-g2p/blob/main/components.ipynb\" target=\"_parent\"><img src=\"https://colab.research.google.com/assets/colab-badge.svg\" alt=\"Open In Colab\"/></a>"
      ]
    },
    {
      "cell_type": "code",
      "metadata": {
        "collapsed": true,
        "jupyter": {
          "outputs_hidden": true
        },
        "colab": {
          "base_uri": "https://localhost:8080/"
        },
        "id": "607rsfhce4U1",
        "outputId": "a9244a5a-54d8-4539-f38d-059924045df4"
      },
      "source": [
        "!pip install suparkanbun"
      ],
      "execution_count": null,
      "outputs": [
        {
          "output_type": "stream",
          "text": [
            "Collecting suparkanbun\n",
            "  Downloading suparkanbun-1.2.7-py3-none-any.whl (853 kB)\n",
            "\u001b[K     |████████████████████████████████| 853 kB 5.4 MB/s \n",
            "\u001b[?25hRequirement already satisfied: spacy>=2.2.2 in /usr/local/lib/python3.7/dist-packages (from suparkanbun) (2.2.4)\n",
            "Collecting transformers>=4.0.1\n",
            "  Downloading transformers-4.9.2-py3-none-any.whl (2.6 MB)\n",
            "\u001b[K     |████████████████████████████████| 2.6 MB 40.3 MB/s \n",
            "\u001b[?25hCollecting deplacy>=2.0.0\n",
            "  Downloading deplacy-2.0.0-py3-none-any.whl (22 kB)\n",
            "Collecting supar>=1.1.2\n",
            "  Downloading supar-1.1.2-py3-none-any.whl (87 kB)\n",
            "\u001b[K     |████████████████████████████████| 87 kB 5.4 MB/s \n",
            "\u001b[?25hRequirement already satisfied: thinc==7.4.0 in /usr/local/lib/python3.7/dist-packages (from spacy>=2.2.2->suparkanbun) (7.4.0)\n",
            "Requirement already satisfied: catalogue<1.1.0,>=0.0.7 in /usr/local/lib/python3.7/dist-packages (from spacy>=2.2.2->suparkanbun) (1.0.0)\n",
            "Requirement already satisfied: blis<0.5.0,>=0.4.0 in /usr/local/lib/python3.7/dist-packages (from spacy>=2.2.2->suparkanbun) (0.4.1)\n",
            "Requirement already satisfied: tqdm<5.0.0,>=4.38.0 in /usr/local/lib/python3.7/dist-packages (from spacy>=2.2.2->suparkanbun) (4.62.0)\n",
            "Requirement already satisfied: murmurhash<1.1.0,>=0.28.0 in /usr/local/lib/python3.7/dist-packages (from spacy>=2.2.2->suparkanbun) (1.0.5)\n",
            "Requirement already satisfied: cymem<2.1.0,>=2.0.2 in /usr/local/lib/python3.7/dist-packages (from spacy>=2.2.2->suparkanbun) (2.0.5)\n",
            "Requirement already satisfied: preshed<3.1.0,>=3.0.2 in /usr/local/lib/python3.7/dist-packages (from spacy>=2.2.2->suparkanbun) (3.0.5)\n",
            "Requirement already satisfied: numpy>=1.15.0 in /usr/local/lib/python3.7/dist-packages (from spacy>=2.2.2->suparkanbun) (1.19.5)\n",
            "Requirement already satisfied: plac<1.2.0,>=0.9.6 in /usr/local/lib/python3.7/dist-packages (from spacy>=2.2.2->suparkanbun) (1.1.3)\n",
            "Requirement already satisfied: srsly<1.1.0,>=1.0.2 in /usr/local/lib/python3.7/dist-packages (from spacy>=2.2.2->suparkanbun) (1.0.5)\n",
            "Requirement already satisfied: requests<3.0.0,>=2.13.0 in /usr/local/lib/python3.7/dist-packages (from spacy>=2.2.2->suparkanbun) (2.23.0)\n",
            "Requirement already satisfied: wasabi<1.1.0,>=0.4.0 in /usr/local/lib/python3.7/dist-packages (from spacy>=2.2.2->suparkanbun) (0.8.2)\n",
            "Requirement already satisfied: setuptools in /usr/local/lib/python3.7/dist-packages (from spacy>=2.2.2->suparkanbun) (57.4.0)\n",
            "Requirement already satisfied: importlib-metadata>=0.20 in /usr/local/lib/python3.7/dist-packages (from catalogue<1.1.0,>=0.0.7->spacy>=2.2.2->suparkanbun) (4.6.4)\n",
            "Requirement already satisfied: typing-extensions>=3.6.4 in /usr/local/lib/python3.7/dist-packages (from importlib-metadata>=0.20->catalogue<1.1.0,>=0.0.7->spacy>=2.2.2->suparkanbun) (3.7.4.3)\n",
            "Requirement already satisfied: zipp>=0.5 in /usr/local/lib/python3.7/dist-packages (from importlib-metadata>=0.20->catalogue<1.1.0,>=0.0.7->spacy>=2.2.2->suparkanbun) (3.5.0)\n",
            "Requirement already satisfied: idna<3,>=2.5 in /usr/local/lib/python3.7/dist-packages (from requests<3.0.0,>=2.13.0->spacy>=2.2.2->suparkanbun) (2.10)\n",
            "Requirement already satisfied: chardet<4,>=3.0.2 in /usr/local/lib/python3.7/dist-packages (from requests<3.0.0,>=2.13.0->spacy>=2.2.2->suparkanbun) (3.0.4)\n",
            "Requirement already satisfied: urllib3!=1.25.0,!=1.25.1,<1.26,>=1.21.1 in /usr/local/lib/python3.7/dist-packages (from requests<3.0.0,>=2.13.0->spacy>=2.2.2->suparkanbun) (1.24.3)\n",
            "Requirement already satisfied: certifi>=2017.4.17 in /usr/local/lib/python3.7/dist-packages (from requests<3.0.0,>=2.13.0->spacy>=2.2.2->suparkanbun) (2021.5.30)\n",
            "Requirement already satisfied: dill in /usr/local/lib/python3.7/dist-packages (from supar>=1.1.2->suparkanbun) (0.3.4)\n",
            "Requirement already satisfied: nltk in /usr/local/lib/python3.7/dist-packages (from supar>=1.1.2->suparkanbun) (3.2.5)\n",
            "Requirement already satisfied: torch>=1.7.1 in /usr/local/lib/python3.7/dist-packages (from supar>=1.1.2->suparkanbun) (1.9.0+cu102)\n",
            "Collecting stanza\n",
            "  Downloading stanza-1.2.3-py3-none-any.whl (342 kB)\n",
            "\u001b[K     |████████████████████████████████| 342 kB 52.9 MB/s \n",
            "\u001b[?25hCollecting tokenizers<0.11,>=0.10.1\n",
            "  Downloading tokenizers-0.10.3-cp37-cp37m-manylinux_2_5_x86_64.manylinux1_x86_64.manylinux_2_12_x86_64.manylinux2010_x86_64.whl (3.3 MB)\n",
            "\u001b[K     |████████████████████████████████| 3.3 MB 40.7 MB/s \n",
            "\u001b[?25hRequirement already satisfied: regex!=2019.12.17 in /usr/local/lib/python3.7/dist-packages (from transformers>=4.0.1->suparkanbun) (2019.12.20)\n",
            "Collecting sacremoses\n",
            "  Downloading sacremoses-0.0.45-py3-none-any.whl (895 kB)\n",
            "\u001b[K     |████████████████████████████████| 895 kB 40.2 MB/s \n",
            "\u001b[?25hRequirement already satisfied: filelock in /usr/local/lib/python3.7/dist-packages (from transformers>=4.0.1->suparkanbun) (3.0.12)\n",
            "Collecting huggingface-hub==0.0.12\n",
            "  Downloading huggingface_hub-0.0.12-py3-none-any.whl (37 kB)\n",
            "Collecting pyyaml>=5.1\n",
            "  Downloading PyYAML-5.4.1-cp37-cp37m-manylinux1_x86_64.whl (636 kB)\n",
            "\u001b[K     |████████████████████████████████| 636 kB 49.6 MB/s \n",
            "\u001b[?25hRequirement already satisfied: packaging in /usr/local/lib/python3.7/dist-packages (from transformers>=4.0.1->suparkanbun) (21.0)\n",
            "Requirement already satisfied: pyparsing>=2.0.2 in /usr/local/lib/python3.7/dist-packages (from packaging->transformers>=4.0.1->suparkanbun) (2.4.7)\n",
            "Requirement already satisfied: six in /usr/local/lib/python3.7/dist-packages (from nltk->supar>=1.1.2->suparkanbun) (1.15.0)\n",
            "Requirement already satisfied: joblib in /usr/local/lib/python3.7/dist-packages (from sacremoses->transformers>=4.0.1->suparkanbun) (1.0.1)\n",
            "Requirement already satisfied: click in /usr/local/lib/python3.7/dist-packages (from sacremoses->transformers>=4.0.1->suparkanbun) (7.1.2)\n",
            "Requirement already satisfied: protobuf in /usr/local/lib/python3.7/dist-packages (from stanza->supar>=1.1.2->suparkanbun) (3.17.3)\n",
            "Installing collected packages: tokenizers, sacremoses, pyyaml, huggingface-hub, transformers, stanza, supar, deplacy, suparkanbun\n",
            "  Attempting uninstall: pyyaml\n",
            "    Found existing installation: PyYAML 3.13\n",
            "    Uninstalling PyYAML-3.13:\n",
            "      Successfully uninstalled PyYAML-3.13\n",
            "Successfully installed deplacy-2.0.0 huggingface-hub-0.0.12 pyyaml-5.4.1 sacremoses-0.0.45 stanza-1.2.3 supar-1.1.2 suparkanbun-1.2.7 tokenizers-0.10.3 transformers-4.9.2\n"
          ],
          "name": "stdout"
        }
      ]
    },
    {
      "cell_type": "code",
      "metadata": {
        "id": "3srDi0ese4U6"
      },
      "source": [
        "import json\n",
        "import numpy as np\n",
        "import pandas as pd\n",
        "import os\n",
        "\n",
        "from suparkanbun.simplify import simplify\n",
        "\n",
        "os.environ['CUDA_LAUNCH_BLOCKING'] = '1'\n",
        "\n",
        "import torch\n",
        "import torch.nn as nn\n",
        "import torch.nn.functional as F\n",
        "from torch.utils.data import Dataset, DataLoader, random_split\n",
        "\n",
        "from tqdm.auto import tqdm\n",
        "\n",
        "from transformers import AutoTokenizer, AutoModelForMaskedLM, AutoModel, AutoModelForSequenceClassification, TrainingArguments, Trainer, AdamW, get_scheduler"
      ],
      "execution_count": null,
      "outputs": []
    },
    {
      "cell_type": "code",
      "metadata": {
        "id": "f6uCuyXJe4U8"
      },
      "source": [
        "traditionalize = {v: k for k, v in simplify.items()}\n",
        "\n",
        "def simplify_with_default(c):\n",
        "    if c in simplify:\n",
        "        return simplify[c]\n",
        "    else:\n",
        "        return c\n",
        "\n",
        "def trad_to_simp(sequence):\n",
        "    return ''.join([simplify_with_default(c) for c in sequence])\n",
        "\n",
        "def traditionalize_with_default(c):\n",
        "    if c in traditionalize:\n",
        "        return traditionalize[c]\n",
        "    else:\n",
        "        return c\n",
        "\n",
        "def simp_to_trad(sequence):\n",
        "    return ''.join([traditionalize_with_default(c) for c in sequence])"
      ],
      "execution_count": null,
      "outputs": []
    },
    {
      "cell_type": "code",
      "metadata": {
        "id": "9jB9Z0xge4U-"
      },
      "source": [
        "def one_hot(i, dim=5):\n",
        "    if i < 0 or i >= dim:\n",
        "        return np.zeros(dim)\n",
        "    else:\n",
        "        return np.eye(dim)[i]\n",
        "    \n",
        "def encode(sequence):\n",
        "    sequence = trad_to_simp(sequence)\n",
        "    return tokenizer.encode(sequence, return_tensors='pt', max_length=66, padding='max_length', truncation=True)[0]"
      ],
      "execution_count": null,
      "outputs": []
    },
    {
      "cell_type": "markdown",
      "metadata": {
        "id": "1OoQ8GGhe4VA"
      },
      "source": [
        "# Masked LM for unseen characters\n",
        "\n",
        "It is known that, often times, a given word with the same meaning and pronunciation may be represented by different characters in writing. While definitely far from a perfect solution to requiring that every character be assigned a pronunciation, we can take advantage of this fact to provide an imperfect guess for any character whose pronunciation does not exist in the Baxter-Sagart reconstruction. In particular, for such a character, we replace it with a mask token and allow GuwenBERT to estimate the probability that a given character would best replace the mask token. We take the highest-probability character that is also in Baxter-Sagart and then perform polyphone disambiguation if necessary. We demonstrate this functionality below."
      ]
    },
    {
      "cell_type": "code",
      "metadata": {
        "colab": {
          "base_uri": "https://localhost:8080/",
          "height": 113,
          "referenced_widgets": [
            "ca5b5f1021c44f37847a3e34fe4780b2",
            "0b5572924d72474eaa1c92a5e2e61074",
            "10b11eec02704d6a89981824fd3e1830",
            "029d373f6a7546d28caf7d00edbddd06",
            "d9cb3662389843f6918e1db8ed2cdb32",
            "9d6b459b7a9c4306953a06650b232d28",
            "de54e1c645e445a281803db1099d1381",
            "d43bbd8e0f10403681cb8da5bd6e305f",
            "0efd01a0ca794ed3913ad00e130114b9",
            "55ded5a4edb8443c9e71dc3c324ae46e",
            "7f5866cc1da44666a70acad188dfc5a8",
            "2aebee4436114d86a3c58b31c743ea33",
            "b14dad12e95247818917b382f32912bd",
            "e6b95481de3141fdb1e32df1bb4ffa44",
            "352435d3ee5344ec9342b3a6f025a872",
            "f2eaf6fc949b44498afa20d6abc1b4b5",
            "d333dafee08c4266b05b1066c743f88b",
            "a85b15e48a3841c9a178ecc77f77d174",
            "5a7f3f09b4a346a3a118ac8e00886381",
            "23f5b3b548d349c6a2ae52e4a7f376b4",
            "6e194433cf5c4927b27e1b2c0077e3b7",
            "0dc6bad3f8f84edfb261f7b4ed4032b5",
            "bf2d56586f7b45609499bee3dd7be009",
            "0b08b3cad6574727af8768eb6b2cf1e9",
            "32b73e529138457ca30141857b3f1ff8",
            "81a93f6c842b4c8496781404c668a727",
            "b4d97b6f7d9745e385f3bd1fdf4b76ab",
            "9888fbff9bec437fa0b05f92b673b8c1",
            "d365aa8be4f94e2092209af38f3e3a76",
            "56b872a39ddb4826abd4fb12e451d9b0",
            "310c6910d9274664bf9142c1384921e6",
            "b42849c7ff9a4fafb598929a366e3668",
            "f2436aa59aca4e94bec833be9a5a0cd9"
          ]
        },
        "id": "fIFlhX_ce4VC",
        "outputId": "88574715-b975-4ed8-99b0-467835bcb396"
      },
      "source": [
        "tokenizer = AutoTokenizer.from_pretrained(\"ethanyt/guwenbert-base\")\n",
        "masked_lm_model = AutoModelForMaskedLM.from_pretrained(\"ethanyt/guwenbert-base\")"
      ],
      "execution_count": null,
      "outputs": [
        {
          "output_type": "display_data",
          "data": {
            "application/vnd.jupyter.widget-view+json": {
              "model_id": "ca5b5f1021c44f37847a3e34fe4780b2",
              "version_minor": 0,
              "version_major": 2
            },
            "text/plain": [
              "Downloading:   0%|          | 0.00/519 [00:00<?, ?B/s]"
            ]
          },
          "metadata": {
            "tags": []
          }
        },
        {
          "output_type": "display_data",
          "data": {
            "application/vnd.jupyter.widget-view+json": {
              "model_id": "2aebee4436114d86a3c58b31c743ea33",
              "version_minor": 0,
              "version_major": 2
            },
            "text/plain": [
              "Downloading:   0%|          | 0.00/93.5k [00:00<?, ?B/s]"
            ]
          },
          "metadata": {
            "tags": []
          }
        },
        {
          "output_type": "display_data",
          "data": {
            "application/vnd.jupyter.widget-view+json": {
              "model_id": "bf2d56586f7b45609499bee3dd7be009",
              "version_minor": 0,
              "version_major": 2
            },
            "text/plain": [
              "Downloading:   0%|          | 0.00/418M [00:00<?, ?B/s]"
            ]
          },
          "metadata": {
            "tags": []
          }
        }
      ]
    },
    {
      "cell_type": "code",
      "metadata": {
        "colab": {
          "base_uri": "https://localhost:8080/"
        },
        "id": "p-_189VKsHAo",
        "outputId": "59302b76-03c0-4aca-89fb-aee6660f1607"
      },
      "source": [
        "baxter_path = './sound_table_v2.json'\n",
        "sample_text_path = './KR1a0001_001.txt'\n",
        "\n",
        "with open(baxter_path, 'r', encoding='utf-8') as f:\n",
        "    table = json.load(f)\n",
        "\n",
        "with open(sample_text_path, 'r', encoding='utf-8') as f:\n",
        "    sequence = ''.join(f).replace('\\n', '')\n",
        "\n",
        "print(sequence)"
      ],
      "execution_count": null,
      "outputs": [
        {
          "output_type": "stream",
          "text": [
            "䷀乾下乾上乾元亨利貞初九潛龍勿用九二見龍在田利見大人九三君子終日乾乾夕惕若厲无咎九四或躍在淵无咎九五飛龍在天利見大人上九亢龍有悔用九見群龍无首吉彖曰大哉乾元萬物資始乃統天雲行雨施品物流形大明終始六位時成時乘六龍以御天乾道變化各正性命保合大和乃利貞首出庶物萬國咸寧象曰天行健君子以自強不息潛龍勿用陽在下也見龍在田德施普也終日乾乾反復道也或躍在淵進无咎也飛龍在天大人造也亢龍有悔盈不可久也用九天德不可為首也文言曰元者善之長也亨者嘉之會也利者義之和也貞者事之幹也君子體仁足以長人嘉會足以合禮利物足以和義貞固足以幹事君子行此四德者故曰乾元亨利貞初九曰潛龍勿用何謂也子曰龍德而隱者也不易乎世不成乎名遯世无悶不見是而无悶樂則行之憂則違之確乎其不可拔潛龍也九二曰見龍在田利見大人何謂也子曰龍德而正中者也庸言之信庸行之謹閑邪存其誠善世而不伐德博而化易曰見龍在田利見大人君德也九三曰君子終日乾乾夕惕若厲无咎何謂也子曰君子進德脩業忠信所以進德也脩辭立其誠所以居業也知至至之可與幾也知終終之可與存義也是故居上位而不驕在下位而不憂故乾乾因其時而惕雖危无咎矣九四曰或躍在淵无咎何謂也子曰上下无常非為邪也進退无恆非離群也君子進德脩業欲及時也故无咎九五曰飛龍在天利見大人何謂也子曰同聲相應同氣相求水流濕火就燥雲從龍風從虎聖人作而萬物覩本乎天者親上本乎地者親下則各從其類也上九曰亢龍有悔何謂也子曰貴而无位高而无民賢人在下位而无輔是以動而有悔也潛龍勿用下也見龍在田時舍也終日乾乾行事也或躍在淵自試也飛龍在天上治也亢龍有悔窮之災也乾元用九天下治也潛龍勿用陽氣潛藏見龍在田天下文明終日乾乾與時偕行或躍在淵乾道乃革飛龍在天乃位乎天德亢龍有悔與時偕極乾元用九乃見天則乾元亨者始而亨者也利貞者性情也乾始能以美利利天下不言所利大矣哉大哉乾乎剛健中正純粹精也六爻發揮旁通情也時乘六龍以御天也雲行雨施天下平也君子以成德為行日可見之行也潛之為言也隱而未見行而未成是以君子弗用也君子學以聚之問以辯之寬以居之仁以行之易曰見龍在田利見大人君德也九三重剛而不中上不在天下不在田故乾乾因其時而惕雖危无咎矣九四重剛而不中上不在天下不在田中不在人故或之或之者疑之也故无咎夫大人者與天地合其德與日月合其明與四時合其序與鬼神合其吉凶先天而天弗違後天而奉天時天且弗違而況於人乎況於鬼神乎亢之為言也知進而不知退知存而不知亡知得而不知喪其唯聖人乎知進退存亡而不失其正者其唯聖人乎\n"
          ],
          "name": "stdout"
        }
      ]
    },
    {
      "cell_type": "code",
      "metadata": {
        "colab": {
          "base_uri": "https://localhost:8080/",
          "height": 222
        },
        "id": "_fLVgcoAe4VC",
        "outputId": "70a67c41-d218-40dc-b8e4-717b7c812390"
      },
      "source": [
        "def masked_lm(seq, table, debug_print=False):\n",
        "    # indices where character is not in Baxter-Sagart\n",
        "    no_baxter_idx = np.where([c not in table for c in seq])[0]\n",
        "    if debug_print:\n",
        "        print('Indices with no Baxter reading:', no_baxter_idx)\n",
        "\n",
        "    simp_sequence = trad_to_simp(seq)\n",
        "\n",
        "    # indices where character is not in the GuwenBERT lexicon\n",
        "    # (these are likely special characters with no pronunciation, especially if the index is also in no_baxter_idx)\n",
        "    if debug_print:\n",
        "        not_bert_lex_idx = np.where(np.array(tokenizer.encode(simp_sequence)[1:-1]) <= 3)[0]\n",
        "        print('Indices containing characters outside of the GuwenBERT lexicon:', not_bert_lex_idx)\n",
        "\n",
        "    print()\n",
        "\n",
        "    for mask_idx in no_baxter_idx:\n",
        "        character = seq[mask_idx]\n",
        "        if debug_print:\n",
        "            print('Index:', mask_idx, '\\nCharacter:', character)\n",
        "            print()\n",
        "\n",
        "        if tokenizer.encode(trad_to_simp(character))[1] <= 3:\n",
        "            if debug_print:\n",
        "                print(character, 'is outside of the GuwenBERT lexicon, moving on to next character\\n')\n",
        "            continue\n",
        "\n",
        "        masked_sequence = simp_sequence[:mask_idx] + tokenizer.mask_token + simp_sequence[mask_idx + 1:]\n",
        "        window_radius = 32\n",
        "        subset = masked_sequence[max(0, mask_idx - window_radius):min(len(masked_sequence), mask_idx + window_radius)]\n",
        "\n",
        "        inputs = tokenizer.encode(subset, return_tensors='pt')\n",
        "        mask_token_index = torch.where(inputs == tokenizer.mask_token_id)[1]\n",
        "        mask_token_logits = masked_lm_model(inputs).logits[0, mask_token_index, :]\n",
        "\n",
        "        top_tokens = torch.topk(mask_token_logits, 100, dim=1).indices[0].tolist()\n",
        "\n",
        "        if debug_print:\n",
        "            for token in top_tokens[:5]:\n",
        "                pred = tokenizer.decode([token])\n",
        "                print(subset.replace(tokenizer.mask_token, pred))\n",
        "                trad_pred = simp_to_trad(pred)\n",
        "                print('Predicted character (traditional):', trad_pred)\n",
        "                print('Has Baxter reading?', trad_pred in table)\n",
        "                print()\n",
        "        \n",
        "        for token in top_tokens:\n",
        "            pred = tokenizer.decode([token])\n",
        "            trad_pred = simp_to_trad(pred)\n",
        "            if trad_pred in table:\n",
        "                seq = seq[:mask_idx] + trad_pred + seq[mask_idx + 1:]\n",
        "                break\n",
        "\n",
        "    return seq\n",
        "\n",
        "masked_lm(sequence, table, debug_print=False)"
      ],
      "execution_count": null,
      "outputs": [
        {
          "output_type": "stream",
          "text": [
            "\n"
          ],
          "name": "stdout"
        },
        {
          "output_type": "execute_result",
          "data": {
            "application/vnd.google.colaboratory.intrinsic+json": {
              "type": "string"
            },
            "text/plain": [
              "'䷀乾下乾上乾元亨利貞初九潛龍勿用九二見龍在田利見大人九三君子終日乾乾夕惕若厲无咎九四或躍在淵无咎九五飛龍在天利見大人上九亢龍有悔用九見群龍无首吉彖曰大哉乾元萬物資始乃法天雲行雨施品物流形大明終始六位時成時乘六龍以御天乾道變化各正性命保合大和乃利貞首出庶物萬國咸寧象曰天行也君子以自強不息潛龍勿用陽在下也見龍在田德施普也終日乾乾反復道也或躍在淵進无咎也飛龍在天大人造也亢龍有悔盈不可久也用九天德不可為首也文言曰元者善之長也亨者嘉之會也利者義之和也貞者事之幹也君子體仁足以長人嘉會足以合禮利物足以和義貞固足以幹事君子行此四德者故曰乾元亨利貞初九曰潛龍勿用何謂也子曰龍德而隱者也不易乎世不成乎名遯世无悶不見是而无悶樂則行之憂則違之確乎其不可拔潛龍也九二曰見龍在田利見大人何謂也子曰龍德而正中者也庸言之信庸行之謹閑邪存其誠善世而不伐德博而化易曰見龍在田利見大人君德也九三曰君子終日乾乾夕惕若厲无咎何謂也子曰君子進德脩業忠信所以進德也脩辭立其誠所以居業也知至至之可與幾也知終終之可與存義也是故居上位而不驕在下位而不憂故乾乾因其時而惕雖危无咎矣九四曰或躍在淵无咎何謂也子曰上下无常非為邪也進退无恆非離群也君子進德脩業欲及時也故无咎九五曰飛龍在天利見大人何謂也子曰同聲相應同氣相求水流濕火就燥雲從龍風從虎聖人作而萬物覩本乎天者親上本乎地者親下則各從其類也上九曰亢龍有悔何謂也子曰貴而无位高而无民賢人在下位而无輔是以動而有悔也潛龍勿用下也見龍在田時舍也終日乾乾行事也或躍在淵自試也飛龍在天上治也亢龍有悔窮之災也乾元用九天下治也潛龍勿用陽氣潛藏見龍在田天下文明終日乾乾與時偕行或躍在淵乾道乃革飛龍在天乃位乎天德亢龍有悔與時偕極乾元用九乃見天則乾元亨者始而亨者也利貞者性情也乾始能以美利利天下不言所利大矣哉大哉乾乎剛柔中正純粹精也六爻發揮旁通情也時乘六龍以御天也雲行雨施天下平也君子以成德為行日可見之行也潛之為言也隱而未見行而未成是以君子弗用也君子學以聚之問以辯之寬以居之仁以行之易曰見龍在田利見大人君德也九三重剛而不中上不在天下不在田故乾乾因其時而惕雖危无咎矣九四重剛而不中上不在天下不在田中不在人故或之或之者疑之也故无咎夫大人者與天地合其德與日月合其明與四時合其序與鬼神合其吉凶先天而天弗違後天而奉天時天且弗違而況於人乎況於鬼神乎亢之為言也知進而不知退知存而不知亡知得而不知喪其唯聖人乎知進退存亡而不失其正者其唯聖人乎'"
            ]
          },
          "metadata": {
            "tags": []
          },
          "execution_count": 42
        }
      ]
    },
    {
      "cell_type": "markdown",
      "metadata": {
        "id": "3D4P4ente4VE"
      },
      "source": [
        "# Polyphone disambiguation\n",
        "\n",
        "The following code trains and evaluates a model for polyphone disambiguation. This model is an implementation of the LSTM classifier from [Dai et al. (2019)](https://www.isca-speech.org/archive/Interspeech_2019/pdfs/2292.pdf).\n",
        "\n",
        " With a more robust set of labelled data, of course, we would want to tune hyperparameters further. Good candidates for tuning, as usual, include the learning rate and schedule as well as the number of epochs to train the data over. We can also change the LSTM hidden layer size based on whether the model appears to be overfitting or too inflexible. Finally, it may be interesting to see how the model trains with different loss functions, namely the Modified Focal Loss proposed in [Zhang et al. (2020)](http://www.interspeech2020.org/uploadfile/2020/1021/20201021034849937.pdf), which appears to be better at picking up less common pronunciations."
      ]
    },
    {
      "cell_type": "code",
      "metadata": {
        "id": "mapndz7ze4VH"
      },
      "source": [
        "df = pd.read_csv('./polyphones-10k-partiallylabelled.csv')\n",
        "\n",
        "# reconstruct index of polyphone from labelled dataset\n",
        "def get_context_index(context, narrow_context, polyphone):\n",
        "    narrow_context_start = context.find(narrow_context[:6])\n",
        "    index = narrow_context_start + 5\n",
        "    if context[index] == polyphone:\n",
        "        return index\n",
        "    else:\n",
        "        index = narrow_context_start + len(narrow_context) - 6\n",
        "        if context[index] == polyphone:\n",
        "            return index\n",
        "        else:\n",
        "            return -1\n",
        "\n",
        "df = df[df['index'] != -1]\n",
        "\n",
        "df['location'] = df.apply(lambda row: get_context_index(row.context, row.narrow_context, row.polyphone), axis=1)\n",
        "\n",
        "# generate masks for available index choices\n",
        "def get_mask(num_pronunciations):\n",
        "    arr = torch.zeros(5)\n",
        "    for i in range(num_pronunciations):\n",
        "        arr[i] = 1\n",
        "    \n",
        "    return arr\n",
        "\n",
        "df['mask'] = df.polyphone.apply(lambda p: get_mask(len(table[p])))"
      ],
      "execution_count": null,
      "outputs": []
    },
    {
      "cell_type": "code",
      "metadata": {
        "colab": {
          "base_uri": "https://localhost:8080/",
          "height": 306
        },
        "id": "YPorKVJU_2bh",
        "outputId": "bd334fce-1bce-4702-fa82-c84afbd5af20"
      },
      "source": [
        "df[:5]"
      ],
      "execution_count": null,
      "outputs": [
        {
          "output_type": "execute_result",
          "data": {
            "text/html": [
              "<div>\n",
              "<style scoped>\n",
              "    .dataframe tbody tr th:only-of-type {\n",
              "        vertical-align: middle;\n",
              "    }\n",
              "\n",
              "    .dataframe tbody tr th {\n",
              "        vertical-align: top;\n",
              "    }\n",
              "\n",
              "    .dataframe thead th {\n",
              "        text-align: right;\n",
              "    }\n",
              "</style>\n",
              "<table border=\"1\" class=\"dataframe\">\n",
              "  <thead>\n",
              "    <tr style=\"text-align: right;\">\n",
              "      <th></th>\n",
              "      <th>Unnamed: 0</th>\n",
              "      <th>source_text</th>\n",
              "      <th>polyphone</th>\n",
              "      <th>location</th>\n",
              "      <th>narrow_context</th>\n",
              "      <th>context</th>\n",
              "      <th>index</th>\n",
              "      <th>reading</th>\n",
              "      <th>gloss</th>\n",
              "      <th>mask</th>\n",
              "    </tr>\n",
              "  </thead>\n",
              "  <tbody>\n",
              "    <tr>\n",
              "      <th>0</th>\n",
              "      <td>735015</td>\n",
              "      <td>中論</td>\n",
              "      <td>風</td>\n",
              "      <td>22</td>\n",
              "      <td>都託之乎觀風然而好變易</td>\n",
              "      <td>無倫而辭察託之乎通理居必人才遊必帝都託之乎觀風然而好變易姓名求之難獲託之乎能靜卑屈其體輯柔其...</td>\n",
              "      <td>0</td>\n",
              "      <td>prəm</td>\n",
              "      <td>wind (n.)</td>\n",
              "      <td>[tensor(1.), tensor(1.), tensor(0.), tensor(0....</td>\n",
              "    </tr>\n",
              "    <tr>\n",
              "      <th>1</th>\n",
              "      <td>733961</td>\n",
              "      <td>中論</td>\n",
              "      <td>深</td>\n",
              "      <td>18</td>\n",
              "      <td>可誣哉故根深而枝葉茂行</td>\n",
              "      <td>者莫不見也有耳者莫不聞也其可誣哉故根深而枝葉茂行久而名譽逺易曰恒亨無咎利貞言久於其道也伊尹放...</td>\n",
              "      <td>1</td>\n",
              "      <td>◦ləms</td>\n",
              "      <td>NaN</td>\n",
              "      <td>[tensor(1.), tensor(1.), tensor(0.), tensor(0....</td>\n",
              "    </tr>\n",
              "    <tr>\n",
              "      <th>2</th>\n",
              "      <td>734361</td>\n",
              "      <td>中論</td>\n",
              "      <td>質</td>\n",
              "      <td>30</td>\n",
              "      <td>藝乎旣脩其質且加其文文</td>\n",
              "      <td>菁菁者莪在彼中阿旣見君子樂且有儀美育■材其猶人之於藝乎旣脩其質且加其文文質著然後體全體全然後...</td>\n",
              "      <td>1</td>\n",
              "      <td>t-lit</td>\n",
              "      <td>substance, solid part</td>\n",
              "      <td>[tensor(1.), tensor(1.), tensor(0.), tensor(0....</td>\n",
              "    </tr>\n",
              "    <tr>\n",
              "      <th>3</th>\n",
              "      <td>734976</td>\n",
              "      <td>中論</td>\n",
              "      <td>於</td>\n",
              "      <td>26</td>\n",
              "      <td>狎之斯術之於斯民也猶内</td>\n",
              "      <td>定䘮其故性而不自知其迷也咸相與祖述其業而寵狎之斯術之於斯民也猶内關之疾也非有痛癢煩苛於身情志...</td>\n",
              "      <td>1</td>\n",
              "      <td>ʔa</td>\n",
              "      <td>at (locative preposition)</td>\n",
              "      <td>[tensor(1.), tensor(1.), tensor(0.), tensor(0....</td>\n",
              "    </tr>\n",
              "    <tr>\n",
              "      <th>4</th>\n",
              "      <td>737071</td>\n",
              "      <td>中論</td>\n",
              "      <td>所</td>\n",
              "      <td>26</td>\n",
              "      <td>卿六遂之法所以維持其民</td>\n",
              "      <td>欲樹藝也雖有良農安所措其疆力乎是以先王制六卿六遂之法所以維持其民而爲之綱目也</td>\n",
              "      <td>0</td>\n",
              "      <td>s-qʰraʔ</td>\n",
              "      <td>place (n.); that which</td>\n",
              "      <td>[tensor(1.), tensor(1.), tensor(0.), tensor(0....</td>\n",
              "    </tr>\n",
              "  </tbody>\n",
              "</table>\n",
              "</div>"
            ],
            "text/plain": [
              "   Unnamed: 0  ...                                               mask\n",
              "0      735015  ...  [tensor(1.), tensor(1.), tensor(0.), tensor(0....\n",
              "1      733961  ...  [tensor(1.), tensor(1.), tensor(0.), tensor(0....\n",
              "2      734361  ...  [tensor(1.), tensor(1.), tensor(0.), tensor(0....\n",
              "3      734976  ...  [tensor(1.), tensor(1.), tensor(0.), tensor(0....\n",
              "4      737071  ...  [tensor(1.), tensor(1.), tensor(0.), tensor(0....\n",
              "\n",
              "[5 rows x 10 columns]"
            ]
          },
          "metadata": {
            "tags": []
          },
          "execution_count": 10
        }
      ]
    },
    {
      "cell_type": "code",
      "metadata": {
        "id": "YTStWb_Ie4VI"
      },
      "source": [
        "class PolyphoneDisambiguationDataset(Dataset):\n",
        "    def __init__(self, contexts, locations, masks, labels):\n",
        "        self.contexts = contexts\n",
        "        self.locations = locations\n",
        "        self.masks = masks\n",
        "        self.labels = labels\n",
        "        \n",
        "    def __len__(self):\n",
        "        return len(self.contexts)\n",
        "    \n",
        "    def __getitem__(self, i):\n",
        "        context = self.contexts.iloc[i]\n",
        "        location = self.locations.iloc[i]\n",
        "        mask = self.masks.iloc[i]\n",
        "        label = self.labels.iloc[i]\n",
        "        sample = {'context': context, 'location': location, 'mask': mask, 'labels': label}\n",
        "        return sample"
      ],
      "execution_count": null,
      "outputs": []
    },
    {
      "cell_type": "code",
      "metadata": {
        "colab": {
          "base_uri": "https://localhost:8080/"
        },
        "id": "XQkZy2DLe4VJ",
        "outputId": "a0abff02-097f-4e3a-aad5-35fe6b7f5dcc"
      },
      "source": [
        "dataset = PolyphoneDisambiguationDataset(\n",
        "    df['context'].apply(encode), \n",
        "    df['location'], \n",
        "    df['mask'],\n",
        "    df['index']\n",
        ")\n",
        "\n",
        "next(iter(dataset))"
      ],
      "execution_count": null,
      "outputs": [
        {
          "output_type": "execute_result",
          "data": {
            "text/plain": [
              "{'context': tensor([   0,   18, 1425,   13,  527,  619, 1237,    6,  217,  191,  230,  231,\n",
              "          174,   11,  453,  431,  174,  167,  221, 1237,    6,  217,  261,  141,\n",
              "           85,   13,  305,  447,  312,  625,   74,  342,    6,  268,  794, 1237,\n",
              "            6,  217,   78,  758, 1502, 1277,   15,  393, 2281, 1228,   15, 1007,\n",
              "         1237,    6,  217, 7242,  888,   85,    2,    1,    1,    1,    1,    1,\n",
              "            1,    1,    1,    1,    1,    1]),\n",
              " 'labels': 0,\n",
              " 'location': 22,\n",
              " 'mask': tensor([1., 1., 0., 0., 0.])}"
            ]
          },
          "metadata": {
            "tags": []
          },
          "execution_count": 12
        }
      ]
    },
    {
      "cell_type": "code",
      "metadata": {
        "id": "gvpyiSYHe4VJ"
      },
      "source": [
        "# rows from labelled DataFrame; pad context to 64 chars\n",
        "train_len = int(len(dataset) * 0.8)\n",
        "test_len = len(dataset) - train_len\n",
        "\n",
        "train_dataset, test_dataset = random_split(dataset, [train_len, test_len])\n",
        "\n",
        "batch_size = 1 # code does not work with non-trivial batches\n",
        "train_loader = DataLoader(dataset=train_dataset, batch_size=batch_size, shuffle=True)\n",
        "test_loader = DataLoader(dataset=test_dataset, batch_size=batch_size, shuffle=False)"
      ],
      "execution_count": null,
      "outputs": []
    },
    {
      "cell_type": "code",
      "metadata": {
        "colab": {
          "base_uri": "https://localhost:8080/"
        },
        "id": "ho9Hx9PIO6Xg",
        "outputId": "dbd596ad-b72d-42aa-ee64-cf2fad6d5f22"
      },
      "source": [
        "next(iter(train_loader))"
      ],
      "execution_count": null,
      "outputs": [
        {
          "output_type": "execute_result",
          "data": {
            "text/plain": [
              "{'context': tensor([[   0,   11, 1520,   92,   19,  249, 5160,    6,  429,   21,   12, 2803,\n",
              "          1180,   21,   16,   37, 5160,    6,   47,   78,    8,  378,  621,   13,\n",
              "           437,  478,  787,  325,  186,    6,   22,  834,  108,   32,  517,  842,\n",
              "           169,   13,    2,    1,    1,    1,    1,    1,    1,    1,    1,    1,\n",
              "             1,    1,    1,    1,    1,    1,    1,    1,    1,    1,    1,    1,\n",
              "             1,    1,    1,    1,    1,    1]]),\n",
              " 'labels': tensor([2]),\n",
              " 'location': tensor([18]),\n",
              " 'mask': tensor([[1., 1., 1., 0., 0.]])}"
            ]
          },
          "metadata": {
            "tags": []
          },
          "execution_count": 22
        }
      ]
    },
    {
      "cell_type": "code",
      "metadata": {
        "colab": {
          "base_uri": "https://localhost:8080/"
        },
        "id": "h0BqZ-eme4VK",
        "outputId": "1dc748b0-cd29-43b4-d3c4-40f3d85ca332"
      },
      "source": [
        "guwenbert = AutoModel.from_pretrained('ethanyt/guwenbert-base')"
      ],
      "execution_count": null,
      "outputs": [
        {
          "output_type": "stream",
          "text": [
            "Some weights of the model checkpoint at ethanyt/guwenbert-base were not used when initializing RobertaModel: ['lm_head.dense.weight', 'lm_head.layer_norm.bias', 'lm_head.decoder.bias', 'lm_head.decoder.weight', 'lm_head.dense.bias', 'lm_head.bias', 'lm_head.layer_norm.weight']\n",
            "- This IS expected if you are initializing RobertaModel from the checkpoint of a model trained on another task or with another architecture (e.g. initializing a BertForSequenceClassification model from a BertForPreTraining model).\n",
            "- This IS NOT expected if you are initializing RobertaModel from the checkpoint of a model that you expect to be exactly identical (initializing a BertForSequenceClassification model from a BertForSequenceClassification model).\n"
          ],
          "name": "stderr"
        }
      ]
    },
    {
      "cell_type": "code",
      "metadata": {
        "id": "4Rv7NMiPe4VK"
      },
      "source": [
        "class PolyphoneDisambiguationModel(nn.Module):\n",
        "    def __init__(self):\n",
        "        super(PolyphoneDisambiguationModel, self).__init__()\n",
        "        \n",
        "        self.lstm_hidden_size = 128 # tuneable hyperparam: reduce if model shows evidence of overfitting\n",
        "        \n",
        "        self.bert = guwenbert\n",
        "        \n",
        "        self.blstm = nn.LSTM(input_size=768, \n",
        "                             hidden_size=self.lstm_hidden_size, \n",
        "                             num_layers=2, \n",
        "                             bidirectional=True, \n",
        "                             batch_first=True)\n",
        "        \n",
        "        self.fc = nn.Linear(self.lstm_hidden_size * 2, 5)\n",
        "        \n",
        "    # mask should be a vector where mask[i] = 1 iff i is a valid Baxter index for the character to predict (and 0 otherwise)\n",
        "    def forward(self, context, location, mask):\n",
        "        embedding = self.bert(context).last_hidden_state\n",
        "\n",
        "        # first index selects batch element, second index selects character to predict\n",
        "        # not sure how to get batching to work in this specific instance\n",
        "        # +1 is to account for the start token\n",
        "        lstm_out = self.blstm(embedding)[0][:, location + 1, :][0][0]\n",
        "\n",
        "        fc_out = self.fc(lstm_out)\n",
        "        output = fc_out.masked_fill((1 - mask).bool(), float('-inf')) # logits\n",
        "        # output = F.softmax(output, dim=1)\n",
        "        \n",
        "        return output"
      ],
      "execution_count": null,
      "outputs": []
    },
    {
      "cell_type": "code",
      "metadata": {
        "id": "ilV-fV9De4VL"
      },
      "source": [
        "model = PolyphoneDisambiguationModel()\n",
        "\n",
        "# freeze bert layer - probably better given our small dataset\n",
        "for i, child in enumerate(model.children()):\n",
        "    if i == 0:\n",
        "        for param in child.parameters():\n",
        "            param.requires_grad = False\n",
        "\n",
        "optimizer = AdamW(filter(lambda p: p.requires_grad, model.parameters()), lr=5e-4) # adjust lr as needed\n",
        "loss_function = nn.CrossEntropyLoss() # try Modified Focal Loss as needed (likely not supported by PyTorch natively :( )\n",
        "\n",
        "num_epochs = 10\n",
        "num_training_steps = num_epochs * len(train_loader)\n",
        "lr_scheduler = get_scheduler(\n",
        "    'linear',\n",
        "    optimizer=optimizer,\n",
        "    num_warmup_steps=0,\n",
        "    num_training_steps=num_training_steps\n",
        ")\n",
        "\n",
        "device = torch.device('cuda') if torch.cuda.is_available() else torch.device('cpu')\n",
        "model.to(device);"
      ],
      "execution_count": null,
      "outputs": []
    },
    {
      "cell_type": "code",
      "metadata": {
        "id": "xdCuf53ObT-L",
        "colab": {
          "base_uri": "https://localhost:8080/",
          "height": 49,
          "referenced_widgets": [
            "d54bdef63d024767a4352d7ed2990c07",
            "b6156e81fd464f1f944992a45e467572",
            "e1ad839f895a4583a998c2ecfd593e91",
            "a23de330686b403e8acb672be78d2d40",
            "d41e8c54475f4bbab183995ad5c96be3",
            "4bb882714d3240ed8e4410ed5808d19d",
            "05dfa52709f5439085e1b3e61b237308",
            "917b0ac90f3e4f2783bcab06440bb657",
            "f260a235139749428a255eed1e8abab5",
            "956404a8544b4e799beec80f9e513b22",
            "07fcbeb6fb3e4883a063491e4c572126"
          ]
        },
        "outputId": "a21049fa-3a11-493c-c640-97b9d1dc1be4"
      },
      "source": [
        "progress_bar = tqdm(range(num_training_steps))\n",
        "\n",
        "model.train()\n",
        "for epoch in range(num_epochs):\n",
        "    for batch in train_loader:\n",
        "        batch = {k: v.to(device) for k, v in batch.items()}\n",
        "        output = model(batch['context'], batch['location'], batch['mask'])\n",
        "        loss = loss_function(output, batch['labels'])\n",
        "        loss.backward()\n",
        "\n",
        "        optimizer.step()\n",
        "        lr_scheduler.step()\n",
        "        optimizer.zero_grad()\n",
        "        progress_bar.update(1)"
      ],
      "execution_count": null,
      "outputs": [
        {
          "output_type": "display_data",
          "data": {
            "application/vnd.jupyter.widget-view+json": {
              "model_id": "d54bdef63d024767a4352d7ed2990c07",
              "version_minor": 0,
              "version_major": 2
            },
            "text/plain": [
              "  0%|          | 0/4360 [00:00<?, ?it/s]"
            ]
          },
          "metadata": {
            "tags": []
          }
        }
      ]
    },
    {
      "cell_type": "code",
      "metadata": {
        "id": "yzfg2z6wKyDd"
      },
      "source": [
        "result = []\n",
        "\n",
        "freqs = {}\n",
        "for i, row in df.iterrows():\n",
        "    if row.polyphone not in freqs:\n",
        "        freqs[row.polyphone] = [0] * 5\n",
        "    freqs[row.polyphone][row['index']] += 1\n",
        "\n",
        "most_freq_index = {int(encode(k)[1]): np.argmax(v) for k, v in freqs.items()}\n",
        "\n",
        "model.eval()\n",
        "for batch in test_loader:\n",
        "    batch = {k: v.to(device) for k, v in batch.items()}\n",
        "    with torch.no_grad():\n",
        "        logits = model(batch['context'], batch['location'], batch['mask'])\n",
        "\n",
        "        pred = torch.argmax(logits)\n",
        "\n",
        "        polyphone_token = int(batch['context'][0][batch['location'][0] + 1])\n",
        "\n",
        "        if polyphone_token in most_freq_index:\n",
        "            most_freq = most_freq_index[polyphone_token]\n",
        "        else:\n",
        "            most_freq = None\n",
        "\n",
        "        result.append({'prediction': pred, \n",
        "                       'reference': batch['labels'][0], \n",
        "                       'most_freq': most_freq})"
      ],
      "execution_count": null,
      "outputs": []
    },
    {
      "cell_type": "code",
      "metadata": {
        "colab": {
          "base_uri": "https://localhost:8080/"
        },
        "id": "yjOm25r4QLdi",
        "outputId": "20ef0db8-6945-4a43-9576-2999f8f5795a"
      },
      "source": [
        "# confusion matrix for the model, treating the most common pronunciation of a character as a \"positive\" result\n",
        "\n",
        "tp = 0\n",
        "tn = 0\n",
        "fp = 0\n",
        "fn = 0\n",
        "for pair in result:\n",
        "    pred = int(pair['prediction'])\n",
        "    ref = int(pair['reference'])\n",
        "    most_freq = pair['most_freq']\n",
        "    tp += pred == ref and ref == most_freq\n",
        "    tn += pred == ref and ref != most_freq\n",
        "    fp += pred != ref and ref != most_freq\n",
        "    fn += pred != ref and ref == most_freq\n",
        "\n",
        "print('True positives (predicts the most common pronunciation correctly):', tp)\n",
        "print('True negatives (predicts a less common pronunciation correctly):', tn)\n",
        "print('False positives (predicts the most common pronunciation for a character that uses a different pronunciation):', fp)\n",
        "print('False negatives (predicts a less common pronunciation for a character that uses the most common pronunciation):', fn)\n",
        "print('Accuracy:', (tp + tn) / len(result))\n",
        "precision = tp / (tp + fp)\n",
        "print('Precision:', precision)\n",
        "recall = tp / (tp + fn)\n",
        "print('Recall:', recall)\n",
        "print('F1 score:', 2 / (1/precision + 1/recall))\n",
        "# print('Diagnostic odds ratio:', (tp * tn) / (fp * fn))\n",
        "\n",
        "# comparing precision and F1 to a naive model (always predicts the most common pronunciation)\n",
        "print('\\nComparison to baseline:')\n",
        "baseline_prec = (tp + fn) / len(result)\n",
        "print('Precision (for a model that always predicts the most common pronunciation):', baseline_prec)\n",
        "print('F1 score (for a model that always predicts the most common pronunciation):', 2 / (1/baseline_prec + 1))"
      ],
      "execution_count": null,
      "outputs": [
        {
          "output_type": "stream",
          "text": [
            "True positives (predicts the most common pronunciation correctly): 102\n",
            "True negatives (predicts a less common pronunciation correctly): 0\n",
            "False positives (predicts the most common pronunciation for a character that uses a different pronunciation): 3\n",
            "False negatives (predicts a less common pronunciation for a character that uses the most common pronunciation): 4\n",
            "Accuracy: 0.9357798165137615\n",
            "Precision: 0.9714285714285714\n",
            "Recall: 0.9622641509433962\n",
            "F1 score: 0.9668246445497629\n",
            "\n",
            "Comparison to baseline:\n",
            "Precision (for a model that always predicts the most common pronunciation): 0.9724770642201835\n",
            "F1 score (for a model that always predicts the most common pronunciation): 0.986046511627907\n"
          ],
          "name": "stdout"
        }
      ]
    },
    {
      "cell_type": "markdown",
      "metadata": {
        "id": "oYLLei5mRmha"
      },
      "source": [
        "# Complete g2p use case\n",
        "\n",
        "This section demonstrates how to combine the masked LM and polyphone disambiguation models for more robust g2p capabilities (ascribing some pronunciation for every character in the GuwenBERT lexicon).\n"
      ]
    },
    {
      "cell_type": "code",
      "metadata": {
        "colab": {
          "base_uri": "https://localhost:8080/",
          "height": 66,
          "referenced_widgets": [
            "e94f782b94a344c8af661a27225a1592",
            "f0d09c4161ce42279b34f59b4811c05b",
            "ddcf91421d6c42f49618890d5abc06d1",
            "bfecaaf3b3f24be39658ba02eca056ad",
            "a5f5c39358ca48f08b462bd1265b0f3b",
            "1d93d4a903244aa590429eb8dfd9e09d",
            "286f110ed7d445189e586546c473f72e",
            "7286f0e24e1347568916b9cbc995bccb",
            "c4524a28646647b6a2b056e1d3bbb1b3",
            "0a24e41172914d2aa6f2011fbe4115f4",
            "9605e020607142a19d71c808265c84bb"
          ]
        },
        "id": "EHlVkuuSRlo0",
        "outputId": "a98f953f-5900-42d2-bc28-366a2af61430"
      },
      "source": [
        "def get_context(text, poly_index, num_left=32, num_right=32):\n",
        "    left = max(0, poly_index - num_left)\n",
        "    right = min(len(text), poly_index + num_right + 1)\n",
        "    return text[left:right], poly_index - left\n",
        "\n",
        "all_baxter = masked_lm(sequence, table)\n",
        "\n",
        "pb = tqdm(range(len(sequence)))\n",
        "\n",
        "phoneme_seq = []\n",
        "for i, c in enumerate(sequence):\n",
        "    if c not in table:\n",
        "        phoneme_seq.append(None) # default behavior for characters outside the GuwenBERT lexicon\n",
        "    elif len(table[c]) == 1:\n",
        "        phoneme_seq.append(table[c][0])\n",
        "    else:\n",
        "        context, location = get_context(sequence, i)\n",
        "        mask = get_mask(len(table[c]))[None, :].to(device)\n",
        "        context = encode(context)[None, :].to(device)\n",
        "        logits = model(context, torch.tensor(location)[None], mask)\n",
        "        pred = torch.argmax(logits)\n",
        "        phoneme_seq.append(table[c][pred])\n",
        "\n",
        "    pb.update(1)"
      ],
      "execution_count": null,
      "outputs": [
        {
          "output_type": "stream",
          "text": [
            "\n"
          ],
          "name": "stdout"
        },
        {
          "output_type": "display_data",
          "data": {
            "application/vnd.jupyter.widget-view+json": {
              "model_id": "e94f782b94a344c8af661a27225a1592",
              "version_minor": 0,
              "version_major": 2
            },
            "text/plain": [
              "  0%|          | 0/1001 [00:00<?, ?it/s]"
            ]
          },
          "metadata": {
            "tags": []
          }
        }
      ]
    },
    {
      "cell_type": "code",
      "metadata": {
        "colab": {
          "base_uri": "https://localhost:8080/"
        },
        "id": "PZF6_5hSgGeF",
        "outputId": "ef75f0d2-7638-4948-ec67-4ef75e198d61"
      },
      "source": [
        "for p in phoneme_seq[:10]:\n",
        "    print(p)"
      ],
      "execution_count": null,
      "outputs": [
        {
          "output_type": "stream",
          "text": [
            "None\n",
            "['', '', '', 'k', 'ˤ', '', 'a', 'r', '', '', '', 'B&SOC2015-10-13', '']\n",
            "['', '', '', 'g', 'ˤ', 'r', 'a', '', 'ʔ', '', '', 'B&SOC2015-10-13', '']\n",
            "['', '', '', 'k', 'ˤ', '', 'a', 'r', '', '', '', 'B&SOC2015-10-13', '']\n",
            "['m-', '', '', 'd', '', '', 'a', 'ŋ', 'ʔ', '', '', 'B&SOC2015-10-13', '']\n",
            "['', '', '', 'g', '', 'r', 'a', 'r', '', '', '', 'B&SOC2015-10-13', '']\n",
            "['', '', '', 'ŋ', '', '', 'o', 'r', '', '', '', 'B&SOC2015-10-13', '']\n",
            "['', '', '', 'qʰ', 'ˤ', 'r', 'a', 'ŋ', '', '', '', 'B&SOC2015-10-13', '']\n",
            "['C-', '', '', 'r', '', '', 'i', 't', '', 's', '', 'B&SOC2015-10-13', '']\n",
            "['', '', '', 't', '', 'r', 'e', 'ŋ', '', '', '', 'B&SOC2015-10-13', '']\n"
          ],
          "name": "stdout"
        }
      ]
    },
    {
      "cell_type": "markdown",
      "metadata": {
        "id": "ugB3sKcOSZzO"
      },
      "source": [
        "Something that is likely pretty important down the road but I didn't have the time to figure out is getting batching to work, which would improve the code's performance significantly. Unfortunately with the time allotted, I decided to prioritize getting the logic implemented and documented here."
      ]
    }
  ]
}